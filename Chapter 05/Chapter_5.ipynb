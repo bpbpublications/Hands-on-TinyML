{
  "cells": [
    {
      "cell_type": "code",
      "execution_count": 1,
      "metadata": {
        "id": "MeQJVE8ooSWm"
      },
      "outputs": [],
      "source": [
        "import numpy as np\n",
        "from numpy import random\n",
        "import matplotlib.pyplot as plt\n",
        "import tensorflow as tf\n",
        "from tensorflow.keras.datasets import fashion_mnist\n",
        "from tensorflow.keras.models import Sequential\n",
        "from tensorflow.keras.layers import Conv2D, MaxPooling2D, Flatten, Dropout, Dense\n",
        "from tensorflow.keras.utils import to_categorical\n",
        "from tensorflow.keras.optimizers import Adam"
      ]
    },
    {
      "cell_type": "markdown",
      "source": [
        "Load Fashion_MNIST database"
      ],
      "metadata": {
        "id": "WALjcEd_YY_Z"
      }
    },
    {
      "cell_type": "code",
      "execution_count": 2,
      "metadata": {
        "colab": {
          "base_uri": "https://localhost:8080/"
        },
        "id": "CFWueErRpUiM",
        "outputId": "17d279e9-db31-40fc-ec17-413beea4647c"
      },
      "outputs": [
        {
          "output_type": "stream",
          "name": "stdout",
          "text": [
            "Downloading data from https://storage.googleapis.com/tensorflow/tf-keras-datasets/train-labels-idx1-ubyte.gz\n",
            "29515/29515 [==============================] - 0s 0us/step\n",
            "Downloading data from https://storage.googleapis.com/tensorflow/tf-keras-datasets/train-images-idx3-ubyte.gz\n",
            "26421880/26421880 [==============================] - 0s 0us/step\n",
            "Downloading data from https://storage.googleapis.com/tensorflow/tf-keras-datasets/t10k-labels-idx1-ubyte.gz\n",
            "5148/5148 [==============================] - 0s 0us/step\n",
            "Downloading data from https://storage.googleapis.com/tensorflow/tf-keras-datasets/t10k-images-idx3-ubyte.gz\n",
            "4422102/4422102 [==============================] - 0s 0us/step\n"
          ]
        }
      ],
      "source": [
        "(X_train, y_train), (X_test, y_test) = fashion_mnist.load_data()"
      ]
    },
    {
      "cell_type": "markdown",
      "source": [
        "Plot random image samples"
      ],
      "metadata": {
        "id": "cN_n53vMYfHj"
      }
    },
    {
      "cell_type": "code",
      "execution_count": 3,
      "metadata": {
        "colab": {
          "base_uri": "https://localhost:8080/",
          "height": 507
        },
        "id": "mBaXULHhpvb0",
        "outputId": "1462bb46-3d91-4d66-f938-622cf207302a"
      },
      "outputs": [
        {
          "output_type": "display_data",
          "data": {
            "text/plain": [
              "<Figure size 500x500 with 9 Axes>"
            ],
            "image/png": "[encoded data removed]"
          },
          "metadata": {}
        }
      ],
      "source": [
        "plt.rcParams['figure.figsize'] = (5,5)\n",
        "\n",
        "for i in range(9):\n",
        "    plt.subplot(3,3,i+1)\n",
        "    num = random.randint(0, len(X_train))\n",
        "    plt.imshow(X_train[num], cmap='gray')\n",
        "    plt.title(\"Class {}\".format(y_train[num]))\n",
        "    \n",
        "plt.tight_layout()"
      ]
    },
    {
      "cell_type": "markdown",
      "source": [
        "Data pre-processing"
      ],
      "metadata": {
        "id": "04atR1TVYoTV"
      }
    },
    {
      "cell_type": "code",
      "execution_count": 4,
      "metadata": {
        "id": "STRQvzEkrfV_"
      },
      "outputs": [],
      "source": [
        "num_class = 10\n",
        "X_train = X_train.astype('float32')   # change integers to 32-bit floating point numbers\n",
        "X_test = X_test.astype('float32')\n",
        "\n",
        "X_train /= 255                        # normalize the input\n",
        "X_test /= 255\n",
        "\n",
        "X_train = X_train.reshape(-1, X_train.shape[1], X_train.shape[2], 1)\n",
        "X_test = X_test.reshape(-1, X_test.shape[1], X_test.shape[2], 1)\n",
        "\n",
        "y_train = to_categorical(y_train, num_class)\n",
        "y_test = to_categorical(y_test, num_class)"
      ]
    },
    {
      "cell_type": "markdown",
      "source": [
        "Model definition the baseline model"
      ],
      "metadata": {
        "id": "7DUqfU2qYuOf"
      }
    },
    {
      "cell_type": "code",
      "execution_count": 5,
      "metadata": {
        "id": "sgCdrSnRszlB"
      },
      "outputs": [],
      "source": [
        "model = Sequential()      \n",
        "model.add(Conv2D(32, kernel_size=(3, 3), activation=\"relu\", input_shape = (28,28,1)))\n",
        "model.add(MaxPooling2D(pool_size=(2, 2)))\n",
        "model.add(Conv2D(64, kernel_size=(3, 3), activation=\"relu\"))\n",
        "model.add(MaxPooling2D(pool_size=(2, 2)))\n",
        "model.add(Flatten())\n",
        "model.add(Dropout(0.5))\n",
        "model.add(Dense(100, activation = \"relu\"))\n",
        "model.add(Dense(num_class, activation=\"softmax\"))"
      ]
    },
    {
      "cell_type": "code",
      "execution_count": 6,
      "metadata": {
        "colab": {
          "base_uri": "https://localhost:8080/"
        },
        "id": "wwZxr5nvtaSn",
        "outputId": "4e74e0d3-0e3b-4d2f-b0ef-268d6548c412"
      },
      "outputs": [
        {
          "output_type": "stream",
          "name": "stdout",
          "text": [
            "Model: \"sequential\"\n",
            "_________________________________________________________________\n",
            " Layer (type)                Output Shape              Param #   \n",
            "=================================================================\n",
            " conv2d (Conv2D)             (None, 26, 26, 32)        320       \n",
            "                                                                 \n",
            " max_pooling2d (MaxPooling2D  (None, 13, 13, 32)       0         \n",
            " )                                                               \n",
            "                                                                 \n",
            " conv2d_1 (Conv2D)           (None, 11, 11, 64)        18496     \n",
            "                                                                 \n",
            " max_pooling2d_1 (MaxPooling  (None, 5, 5, 64)         0         \n",
            " 2D)                                                             \n",
            "                                                                 \n",
            " flatten (Flatten)           (None, 1600)              0         \n",
            "                                                                 \n",
            " dropout (Dropout)           (None, 1600)              0         \n",
            "                                                                 \n",
            " dense (Dense)               (None, 100)               160100    \n",
            "                                                                 \n",
            " dense_1 (Dense)             (None, 10)                1010      \n",
            "                                                                 \n",
            "=================================================================\n",
            "Total params: 179,926\n",
            "Trainable params: 179,926\n",
            "Non-trainable params: 0\n",
            "_________________________________________________________________\n"
          ]
        }
      ],
      "source": [
        "model.summary()"
      ]
    },
    {
      "cell_type": "markdown",
      "source": [
        "Configure and train the baseline model"
      ],
      "metadata": {
        "id": "12Y68hEWYy4_"
      }
    },
    {
      "cell_type": "code",
      "execution_count": 7,
      "metadata": {
        "colab": {
          "base_uri": "https://localhost:8080/"
        },
        "id": "jPSnyuOrt1QE",
        "outputId": "fb14dbc4-e79f-4669-b088-4dded8a3b108"
      },
      "outputs": [
        {
          "output_type": "stream",
          "name": "stderr",
          "text": [
            "WARNING:absl:`lr` is deprecated in Keras optimizer, please use `learning_rate` or use the legacy optimizer, e.g.,tf.keras.optimizers.legacy.Adam.\n"
          ]
        }
      ],
      "source": [
        "opt = Adam(lr=0.002)\n",
        "model.compile(loss=\"categorical_crossentropy\", optimizer = opt, metrics=[\"accuracy\"])"
      ]
    },
    {
      "cell_type": "code",
      "execution_count": 8,
      "metadata": {
        "colab": {
          "base_uri": "https://localhost:8080/"
        },
        "id": "3S4KcVpcuVYy",
        "outputId": "5f25223b-95e7-4c68-af7d-675b79a856b6"
      },
      "outputs": [
        {
          "output_type": "stream",
          "name": "stdout",
          "text": [
            "Epoch 1/15\n",
            "469/469 [==============================] - 54s 112ms/step - loss: 0.6048 - accuracy: 0.7789\n",
            "Epoch 2/15\n",
            "469/469 [==============================] - 53s 112ms/step - loss: 0.4070 - accuracy: 0.8529\n",
            "Epoch 3/15\n",
            "469/469 [==============================] - 52s 110ms/step - loss: 0.3551 - accuracy: 0.8720\n",
            "Epoch 4/15\n",
            "469/469 [==============================] - 52s 111ms/step - loss: 0.3223 - accuracy: 0.8826\n",
            "Epoch 5/15\n",
            "469/469 [==============================] - 51s 109ms/step - loss: 0.3030 - accuracy: 0.8891\n",
            "Epoch 6/15\n",
            "469/469 [==============================] - 51s 108ms/step - loss: 0.2863 - accuracy: 0.8950\n",
            "Epoch 7/15\n",
            "469/469 [==============================] - 51s 108ms/step - loss: 0.2711 - accuracy: 0.8998\n",
            "Epoch 8/15\n",
            "469/469 [==============================] - 50s 107ms/step - loss: 0.2593 - accuracy: 0.9036\n",
            "Epoch 9/15\n",
            "469/469 [==============================] - 50s 107ms/step - loss: 0.2494 - accuracy: 0.9083\n",
            "Epoch 10/15\n",
            "469/469 [==============================] - 50s 107ms/step - loss: 0.2400 - accuracy: 0.9104\n",
            "Epoch 11/15\n",
            "469/469 [==============================] - 51s 108ms/step - loss: 0.2320 - accuracy: 0.9134\n",
            "Epoch 12/15\n",
            "469/469 [==============================] - 50s 107ms/step - loss: 0.2252 - accuracy: 0.9161\n",
            "Epoch 13/15\n",
            "469/469 [==============================] - 51s 108ms/step - loss: 0.2193 - accuracy: 0.9187\n",
            "Epoch 14/15\n",
            "469/469 [==============================] - 51s 108ms/step - loss: 0.2104 - accuracy: 0.9215\n",
            "Epoch 15/15\n",
            "469/469 [==============================] - 49s 105ms/step - loss: 0.2060 - accuracy: 0.9233\n"
          ]
        },
        {
          "output_type": "execute_result",
          "data": {
            "text/plain": [
              "<keras.callbacks.History at 0x7f62b52a7f40>"
            ]
          },
          "metadata": {},
          "execution_count": 8
        }
      ],
      "source": [
        "model.fit(X_train, y_train, batch_size=128, epochs=15)"
      ]
    },
    {
      "cell_type": "markdown",
      "source": [
        "Evaluate on test set"
      ],
      "metadata": {
        "id": "5zMeHSMnchvO"
      }
    },
    {
      "cell_type": "code",
      "execution_count": 9,
      "metadata": {
        "colab": {
          "base_uri": "https://localhost:8080/"
        },
        "id": "URZ4VVGTwTGe",
        "outputId": "292951b2-538a-43ee-9b26-44b0bfdea34f"
      },
      "outputs": [
        {
          "output_type": "stream",
          "name": "stdout",
          "text": [
            "313/313 [==============================] - 3s 8ms/step - loss: 0.2315 - accuracy: 0.9145\n",
            "accuracy on test data: 0.9144999980926514\n"
          ]
        }
      ],
      "source": [
        "score = model.evaluate(X_test, y_test)\n",
        "print('accuracy on test data:', score[1])"
      ]
    },
    {
      "cell_type": "markdown",
      "source": [
        "Save the TF model"
      ],
      "metadata": {
        "id": "REqMMbtZcnsX"
      }
    },
    {
      "cell_type": "code",
      "execution_count": 10,
      "metadata": {
        "id": "nqFtkgMA56K2"
      },
      "outputs": [],
      "source": [
        "model.save('baseline_model.h5')"
      ]
    },
    {
      "cell_type": "markdown",
      "source": [
        "Load the model "
      ],
      "metadata": {
        "id": "bgiAr19nckOX"
      }
    },
    {
      "cell_type": "code",
      "execution_count": 11,
      "metadata": {
        "id": "zIvT2kKl6yVH"
      },
      "outputs": [],
      "source": [
        "from tensorflow.keras.models import load_model\n",
        "baseline_model = load_model('baseline_model.h5')"
      ]
    },
    {
      "cell_type": "markdown",
      "source": [
        "Convert it into an Equivalent TFLite model"
      ],
      "metadata": {
        "id": "NAKwIc_sctBk"
      }
    },
    {
      "cell_type": "code",
      "execution_count": 12,
      "metadata": {
        "colab": {
          "base_uri": "https://localhost:8080/"
        },
        "id": "Z5dl7ufH7xMw",
        "outputId": "1338affd-280d-49cd-d7b9-eebfa7286c3a"
      },
      "outputs": [
        {
          "output_type": "stream",
          "name": "stderr",
          "text": [
            "WARNING:absl:Found untraced functions such as _jit_compiled_convolution_op, _jit_compiled_convolution_op, _update_step_xla while saving (showing 3 of 3). These functions will not be directly callable after loading.\n"
          ]
        }
      ],
      "source": [
        "converter = tf.lite.TFLiteConverter.from_keras_model(baseline_model)\n",
        "tflite_model = converter.convert()"
      ]
    },
    {
      "cell_type": "markdown",
      "source": [
        "Save the TFLite model in your workspace"
      ],
      "metadata": {
        "id": "2fkqFvhDc8Kc"
      }
    },
    {
      "cell_type": "code",
      "execution_count": 13,
      "metadata": {
        "colab": {
          "base_uri": "https://localhost:8080/"
        },
        "id": "E0z_e1f78leK",
        "outputId": "0bff672c-dd9b-43e7-ffdb-4f677554c392"
      },
      "outputs": [
        {
          "output_type": "execute_result",
          "data": {
            "text/plain": [
              "723104"
            ]
          },
          "metadata": {},
          "execution_count": 13
        }
      ],
      "source": [
        "import pathlib\n",
        "\n",
        "tflite_models_dir = pathlib.Path(\"/content/tflite_models/\")\n",
        "tflite_models_dir.mkdir(exist_ok=True, parents=True)\n",
        "tflite_model_file = tflite_models_dir/\"model.tflite\"\n",
        "tflite_model_file.write_bytes(tflite_model)"
      ]
    },
    {
      "cell_type": "markdown",
      "source": [
        "You can also export a TensorFlow model as a concrete function"
      ],
      "metadata": {
        "id": "dlh6ENPec0Qm"
      }
    },
    {
      "cell_type": "code",
      "execution_count": 14,
      "metadata": {
        "colab": {
          "base_uri": "https://localhost:8080/"
        },
        "id": "7lQ1CCQt-W8G",
        "outputId": "2da7a570-5176-4013-b953-4811bfcfd608"
      },
      "outputs": [
        {
          "output_type": "stream",
          "name": "stderr",
          "text": [
            "WARNING:absl:Please consider providing the trackable_obj argument in the from_concrete_functions. Providing without the trackable_obj argument is deprecated and it will use the deprecated conversion path.\n"
          ]
        }
      ],
      "source": [
        "# export model as  a concrete function\n",
        "func = tf.function(baseline_model).get_concrete_function(\n",
        "    tf.TensorSpec(baseline_model.inputs[0].shape, baseline_model.inputs[0].dtype))\n",
        "# serialized graph representation of the concrte function\n",
        "func.graph.as_graph_def()\n",
        "# converting the concrete function to TfLite \n",
        "converter =  tf.lite.TFLiteConverter.from_concrete_functions([func])\n",
        "tflite_model = converter.convert()"
      ]
    },
    {
      "cell_type": "markdown",
      "source": [
        "Prediction on the test set using the TFLite model"
      ],
      "metadata": {
        "id": "VV9do-cQn11J"
      }
    },
    {
      "cell_type": "code",
      "execution_count": 15,
      "metadata": {
        "colab": {
          "base_uri": "https://localhost:8080/"
        },
        "id": "6T_zQPXA-veG",
        "outputId": "1fcdbcd7-8c13-40cd-aa95-5eb42675a5a9"
      },
      "outputs": [
        {
          "output_type": "stream",
          "name": "stdout",
          "text": [
            "accuracy =  0.9145\n"
          ]
        }
      ],
      "source": [
        "tflite_model_file = 'tflite_models/model.tflite'          \n",
        "interpreter = tf.lite.Interpreter(model_path=tflite_model_file)\n",
        "interpreter.allocate_tensors()\n",
        "\n",
        "input_index = interpreter.get_input_details()[0][\"index\"]\n",
        "output_index = interpreter.get_output_details()[0][\"index\"]\n",
        "\n",
        "pred_list = []\n",
        "for images in X_test:\n",
        "  input_data = np.array(images, dtype=np.float32)\n",
        "\n",
        "  input_data = input_data.reshape(1, input_data.shape[0], input_data.shape[1], 1)\n",
        "\n",
        "  interpreter.set_tensor(input_index, input_data)\n",
        "  interpreter.invoke()\n",
        "  prediction = interpreter.get_tensor(output_index)\n",
        "  prediction = np.argmax(prediction)\n",
        "  pred_list.append(prediction)\n",
        "\n",
        "accurate_count = 0\n",
        "for index in range(len(pred_list)):\n",
        "  if pred_list[index] == np.argmax(y_test[index]):\n",
        "      accurate_count += 1\n",
        "accuracy = accurate_count * 1.0 / len(pred_list)\n",
        "\n",
        "print('accuracy = ', accuracy)"
      ]
    },
    {
      "cell_type": "markdown",
      "source": [
        "Post training quantization"
      ],
      "metadata": {
        "id": "iejobVRd4ebx"
      }
    },
    {
      "cell_type": "code",
      "execution_count": 16,
      "metadata": {
        "colab": {
          "base_uri": "https://localhost:8080/"
        },
        "id": "FN4Iij_xKwO5",
        "outputId": "c35b4b51-e998-4627-afd7-ccf311bf9dcd"
      },
      "outputs": [
        {
          "output_type": "stream",
          "name": "stderr",
          "text": [
            "WARNING:absl:Found untraced functions such as _jit_compiled_convolution_op, _jit_compiled_convolution_op, _update_step_xla while saving (showing 3 of 3). These functions will not be directly callable after loading.\n"
          ]
        }
      ],
      "source": [
        "converter = tf.lite.TFLiteConverter.from_keras_model(baseline_model)\n",
        "converter.optimizations = [tf.lite.Optimize.DEFAULT]\n",
        "tflite_model_ptq = converter.convert()"
      ]
    },
    {
      "cell_type": "markdown",
      "source": [
        "Save the model after post-training quantization"
      ],
      "metadata": {
        "id": "xYdYHLbL4hUk"
      }
    },
    {
      "cell_type": "code",
      "execution_count": 17,
      "metadata": {
        "colab": {
          "base_uri": "https://localhost:8080/"
        },
        "id": "6H7v-71JK9zm",
        "outputId": "4bd16669-bf33-448e-cc58-41934570c011"
      },
      "outputs": [
        {
          "output_type": "execute_result",
          "data": {
            "text/plain": [
              "188672"
            ]
          },
          "metadata": {},
          "execution_count": 17
        }
      ],
      "source": [
        "tflite_models_dir = pathlib.Path(\"/content/tflite_models/\")\n",
        "tflite_models_dir.mkdir(exist_ok=True, parents=True)\n",
        "tflite_model_file = tflite_models_dir/\"model_ptq.tflite\"\n",
        "tflite_model_file.write_bytes(tflite_model_ptq)"
      ]
    },
    {
      "cell_type": "markdown",
      "source": [
        "Evaluate the model performance "
      ],
      "metadata": {
        "id": "QCr73kuo4vHS"
      }
    },
    {
      "cell_type": "code",
      "execution_count": 18,
      "metadata": {
        "colab": {
          "base_uri": "https://localhost:8080/"
        },
        "id": "BgoX_k52LKh2",
        "outputId": "de0df327-6be5-45e3-c51c-a0f5c0d8365f"
      },
      "outputs": [
        {
          "output_type": "stream",
          "name": "stdout",
          "text": [
            "0.915\n"
          ]
        }
      ],
      "source": [
        "tflite_model_file = 'tflite_models/model_ptq.tflite'          \n",
        "interpreter = tf.lite.Interpreter(model_path=tflite_model_file)\n",
        "interpreter.allocate_tensors()\n",
        "\n",
        "input_index = interpreter.get_input_details()[0][\"index\"]\n",
        "output_index = interpreter.get_output_details()[0][\"index\"]\n",
        "\n",
        "pred_list = []\n",
        "for images in X_test:\n",
        "  input_data = np.array(images, dtype=np.float32)\n",
        "\n",
        "  input_data = input_data.reshape(1, input_data.shape[0], input_data.shape[1], 1)\n",
        "\n",
        "  interpreter.set_tensor(input_index, input_data)\n",
        "  interpreter.invoke()\n",
        "  prediction = interpreter.get_tensor(output_index)\n",
        "  prediction = np.argmax(prediction)\n",
        "  pred_list.append(prediction)\n",
        "\n",
        "accurate_count = 0\n",
        "for index in range(len(pred_list)):\n",
        "  if pred_list[index] == np.argmax(y_test[index]):\n",
        "      accurate_count += 1\n",
        "accuracy = accurate_count * 1.0 / len(pred_list)\n",
        "\n",
        "print(accuracy)"
      ]
    },
    {
      "cell_type": "markdown",
      "source": [
        "Install the package for TensorFlow Model Optimization"
      ],
      "metadata": {
        "id": "k-hY69aM4ww5"
      }
    },
    {
      "cell_type": "code",
      "execution_count": 19,
      "metadata": {
        "colab": {
          "base_uri": "https://localhost:8080/"
        },
        "id": "SZv30jfeRv-G",
        "outputId": "e9d88dc7-5aa3-4d4b-ed4b-7bf266d588e6"
      },
      "outputs": [
        {
          "output_type": "stream",
          "name": "stdout",
          "text": [
            "\u001b[2K     \u001b[90m━━━━━━━━━━━━━━━━━━━━━━━━━━━━━━━━━━━━━━━\u001b[0m \u001b[32m240.6/240.6 KB\u001b[0m \u001b[31m8.5 MB/s\u001b[0m eta \u001b[36m0:00:00\u001b[0m\n",
            "\u001b[2K     \u001b[90m━━━━━━━━━━━━━━━━━━━━━━━━━━━━━━━━━━━━━━━━\u001b[0m \u001b[32m17.3/17.3 MB\u001b[0m \u001b[31m46.3 MB/s\u001b[0m eta \u001b[36m0:00:00\u001b[0m\n",
            "\u001b[?25h\u001b[31mERROR: pip's dependency resolver does not currently take into account all the packages that are installed. This behaviour is the source of the following dependency conflicts.\n",
            "tensorflow 2.12.0 requires numpy<1.24,>=1.22, but you have numpy 1.24.2 which is incompatible.\n",
            "numba 0.56.4 requires numpy<1.24,>=1.18, but you have numpy 1.24.2 which is incompatible.\u001b[0m\u001b[31m\n",
            "\u001b[0m"
          ]
        }
      ],
      "source": [
        " pip install -q tensorflow-model-optimization"
      ]
    },
    {
      "cell_type": "markdown",
      "source": [
        "Quantization aware training"
      ],
      "metadata": {
        "id": "1nFxNJth414q"
      }
    },
    {
      "cell_type": "code",
      "execution_count": 20,
      "metadata": {
        "colab": {
          "base_uri": "https://localhost:8080/"
        },
        "id": "VH2X9H2SRkCh",
        "outputId": "d7e0f00f-2f29-4fa8-c90d-a78698ccf089"
      },
      "outputs": [
        {
          "output_type": "stream",
          "name": "stdout",
          "text": [
            "Model: \"sequential\"\n",
            "_________________________________________________________________\n",
            " Layer (type)                Output Shape              Param #   \n",
            "=================================================================\n",
            " quantize_layer (QuantizeLay  (None, 28, 28, 1)        3         \n",
            " er)                                                             \n",
            "                                                                 \n",
            " quant_conv2d (QuantizeWrapp  (None, 26, 26, 32)       387       \n",
            " erV2)                                                           \n",
            "                                                                 \n",
            " quant_max_pooling2d (Quanti  (None, 13, 13, 32)       1         \n",
            " zeWrapperV2)                                                    \n",
            "                                                                 \n",
            " quant_conv2d_1 (QuantizeWra  (None, 11, 11, 64)       18627     \n",
            " pperV2)                                                         \n",
            "                                                                 \n",
            " quant_max_pooling2d_1 (Quan  (None, 5, 5, 64)         1         \n",
            " tizeWrapperV2)                                                  \n",
            "                                                                 \n",
            " quant_flatten (QuantizeWrap  (None, 1600)             1         \n",
            " perV2)                                                          \n",
            "                                                                 \n",
            " quant_dropout (QuantizeWrap  (None, 1600)             1         \n",
            " perV2)                                                          \n",
            "                                                                 \n",
            " quant_dense (QuantizeWrappe  (None, 100)              160105    \n",
            " rV2)                                                            \n",
            "                                                                 \n",
            " quant_dense_1 (QuantizeWrap  (None, 10)               1015      \n",
            " perV2)                                                          \n",
            "                                                                 \n",
            "=================================================================\n",
            "Total params: 180,141\n",
            "Trainable params: 179,926\n",
            "Non-trainable params: 215\n",
            "_________________________________________________________________\n"
          ]
        }
      ],
      "source": [
        "import tensorflow_model_optimization as tfmot\n",
        "\n",
        "baseline_model = load_model('baseline_model.h5')\n",
        "\n",
        "quantized_model = tfmot.quantization.keras.quantize_model\n",
        "\n",
        "# q_aware stands for for quantization aware.\n",
        "q_aware_model = quantized_model(baseline_model)\n",
        "\n",
        "# `quantize_model` requires a recompile.\n",
        "q_aware_model.compile(optimizer='adam',\n",
        "              loss=tf.keras.losses.CategoricalCrossentropy(from_logits=True),\n",
        "              metrics=['accuracy'])\n",
        "\n",
        "q_aware_model.summary()"
      ]
    },
    {
      "cell_type": "markdown",
      "source": [
        "Require a retraining"
      ],
      "metadata": {
        "id": "nR-f4VcE5A7L"
      }
    },
    {
      "cell_type": "code",
      "execution_count": 21,
      "metadata": {
        "colab": {
          "base_uri": "https://localhost:8080/"
        },
        "id": "d-U2p0WuR1PX",
        "outputId": "3abf720c-8681-44d2-b523-2da44aaa9b4f"
      },
      "outputs": [
        {
          "output_type": "stream",
          "name": "stdout",
          "text": [
            "Epoch 1/2\n"
          ]
        },
        {
          "output_type": "stream",
          "name": "stderr",
          "text": [
            "/usr/local/lib/python3.9/dist-packages/keras/backend.py:5561: UserWarning: \"`categorical_crossentropy` received `from_logits=True`, but the `output` argument was produced by a Softmax activation and thus does not represent logits. Was this intended?\n",
            "  output, from_logits = _get_logits(\n"
          ]
        },
        {
          "output_type": "stream",
          "name": "stdout",
          "text": [
            "108/108 [==============================] - 80s 691ms/step - loss: 0.2002 - accuracy: 0.9269 - val_loss: 0.1540 - val_accuracy: 0.9445\n",
            "Epoch 2/2\n",
            "108/108 [==============================] - 62s 577ms/step - loss: 0.1857 - accuracy: 0.9297 - val_loss: 0.1525 - val_accuracy: 0.9447\n"
          ]
        },
        {
          "output_type": "execute_result",
          "data": {
            "text/plain": [
              "<keras.callbacks.History at 0x7f62a5000040>"
            ]
          },
          "metadata": {},
          "execution_count": 21
        }
      ],
      "source": [
        "q_aware_model.fit(X_train, y_train,\n",
        "                  batch_size=500, epochs=2, validation_split=0.1)"
      ]
    },
    {
      "cell_type": "markdown",
      "source": [
        "Convert and save the model as a TFLite file"
      ],
      "metadata": {
        "id": "jDg6FduM46S5"
      }
    },
    {
      "cell_type": "code",
      "execution_count": 22,
      "metadata": {
        "colab": {
          "base_uri": "https://localhost:8080/"
        },
        "id": "Ysjav1fQSuGJ",
        "outputId": "8c016ec7-29f3-4c68-8d54-b94d6719f761"
      },
      "outputs": [
        {
          "output_type": "stream",
          "name": "stderr",
          "text": [
            "WARNING:absl:Found untraced functions such as _update_step_xla, conv2d_layer_call_fn, conv2d_layer_call_and_return_conditional_losses, _jit_compiled_convolution_op, conv2d_1_layer_call_fn while saving (showing 5 of 15). These functions will not be directly callable after loading.\n",
            "/usr/local/lib/python3.9/dist-packages/tensorflow/lite/python/convert.py:789: UserWarning: Statistics for quantized inputs were expected, but not specified; continuing anyway.\n",
            "  warnings.warn(\"Statistics for quantized inputs were expected, but not \"\n"
          ]
        },
        {
          "output_type": "execute_result",
          "data": {
            "text/plain": [
              "187792"
            ]
          },
          "metadata": {},
          "execution_count": 22
        }
      ],
      "source": [
        "converter = tf.lite.TFLiteConverter.from_keras_model(q_aware_model)\n",
        "converter.optimizations = [tf.lite.Optimize.DEFAULT]\n",
        "tflite_model_qat = converter.convert()\n",
        "\n",
        "tflite_models_dir = pathlib.Path(\"/content/tflite_models/\")\n",
        "tflite_models_dir.mkdir(exist_ok=True, parents=True)\n",
        "tflite_model_file = tflite_models_dir/\"model_qat.tflite\"\n",
        "tflite_model_file.write_bytes(tflite_model_qat)"
      ]
    },
    {
      "cell_type": "markdown",
      "source": [
        "Evalaute on the test set"
      ],
      "metadata": {
        "id": "_Nv2byVT6_AS"
      }
    },
    {
      "cell_type": "code",
      "execution_count": 23,
      "metadata": {
        "colab": {
          "base_uri": "https://localhost:8080/"
        },
        "id": "tofFGt6XTJAQ",
        "outputId": "ef3b6aa4-1f51-480f-eb2d-53acdc00959c"
      },
      "outputs": [
        {
          "output_type": "stream",
          "name": "stdout",
          "text": [
            "accuracy =  0.9203\n"
          ]
        }
      ],
      "source": [
        "tflite_model_file = 'tflite_models/model_qat.tflite'          \n",
        "interpreter = tf.lite.Interpreter(model_path=tflite_model_file)\n",
        "interpreter.allocate_tensors()\n",
        "\n",
        "input_index = interpreter.get_input_details()[0][\"index\"]\n",
        "output_index = interpreter.get_output_details()[0][\"index\"]\n",
        "\n",
        "pred_list = []\n",
        "for images in X_test:\n",
        "  input_data = np.array(images, dtype=np.float32)\n",
        "\n",
        "  input_data = input_data.reshape(1, input_data.shape[0], input_data.shape[1], 1)\n",
        "\n",
        "  interpreter.set_tensor(input_index, input_data)\n",
        "  interpreter.invoke()\n",
        "  prediction = interpreter.get_tensor(output_index)\n",
        "  prediction = np.argmax(prediction)\n",
        "  pred_list.append(prediction)\n",
        "\n",
        "accurate_count = 0\n",
        "for index in range(len(pred_list)):\n",
        "  if pred_list[index] == np.argmax(y_test[index]):\n",
        "      accurate_count += 1\n",
        "accuracy = accurate_count * 1.0 / len(pred_list)\n",
        "\n",
        "print('accuracy = ', accuracy)"
      ]
    },
    {
      "cell_type": "markdown",
      "source": [
        "Selective quantization only on dense layers"
      ],
      "metadata": {
        "id": "vf9lKxKx7CPQ"
      }
    },
    {
      "cell_type": "code",
      "execution_count": 24,
      "metadata": {
        "colab": {
          "base_uri": "https://localhost:8080/"
        },
        "id": "JqxoiXZRVIot",
        "outputId": "4c51d4bb-4e61-4c45-c144-14574ab50c5e"
      },
      "outputs": [
        {
          "output_type": "stream",
          "name": "stdout",
          "text": [
            "Model: \"sequential\"\n",
            "_________________________________________________________________\n",
            " Layer (type)                Output Shape              Param #   \n",
            "=================================================================\n",
            " conv2d (Conv2D)             (None, 26, 26, 32)        320       \n",
            "                                                                 \n",
            " max_pooling2d (MaxPooling2D  (None, 13, 13, 32)       0         \n",
            " )                                                               \n",
            "                                                                 \n",
            " conv2d_1 (Conv2D)           (None, 11, 11, 64)        18496     \n",
            "                                                                 \n",
            " max_pooling2d_1 (MaxPooling  (None, 5, 5, 64)         0         \n",
            " 2D)                                                             \n",
            "                                                                 \n",
            " flatten (Flatten)           (None, 1600)              0         \n",
            "                                                                 \n",
            " quant_dropout (QuantizeWrap  (None, 1600)             1         \n",
            " perV2)                                                          \n",
            "                                                                 \n",
            " quant_dense (QuantizeWrappe  (None, 100)              160105    \n",
            " rV2)                                                            \n",
            "                                                                 \n",
            " quant_dense_1 (QuantizeWrap  (None, 10)               1015      \n",
            " perV2)                                                          \n",
            "                                                                 \n",
            "=================================================================\n",
            "Total params: 179,937\n",
            "Trainable params: 179,926\n",
            "Non-trainable params: 11\n",
            "_________________________________________________________________\n"
          ]
        }
      ],
      "source": [
        "baseline_model = load_model('baseline_model.h5')\n",
        "\n",
        "def apply_quantization(layer):\n",
        "      if isinstance(layer, tf.keras.layers.Dense):\n",
        "        return tfmot.quantization.keras.quantize_annotate_layer(layer)\n",
        "      return layer\n",
        "annotated_model = tf.keras.models.clone_model(baseline_model,clone_function=apply_quantization,)\n",
        "q_aware_model_dense = tfmot.quantization.keras.quantize_apply(annotated_model)\n",
        "q_aware_model_dense.summary()"
      ]
    },
    {
      "cell_type": "code",
      "execution_count": 25,
      "metadata": {
        "colab": {
          "base_uri": "https://localhost:8080/"
        },
        "id": "ukTOb5YIVcv_",
        "outputId": "b9b37fc8-2886-45ac-e414-f5de42311fcd"
      },
      "outputs": [
        {
          "output_type": "stream",
          "name": "stdout",
          "text": [
            "Epoch 1/2\n"
          ]
        },
        {
          "output_type": "stream",
          "name": "stderr",
          "text": [
            "/usr/local/lib/python3.9/dist-packages/keras/backend.py:5561: UserWarning: \"`categorical_crossentropy` received `from_logits=True`, but the `output` argument was produced by a Softmax activation and thus does not represent logits. Was this intended?\n",
            "  output, from_logits = _get_logits(\n"
          ]
        },
        {
          "output_type": "stream",
          "name": "stdout",
          "text": [
            "108/108 [==============================] - 49s 435ms/step - loss: 0.1963 - accuracy: 0.9267 - val_loss: 0.1538 - val_accuracy: 0.9445\n",
            "Epoch 2/2\n",
            "108/108 [==============================] - 48s 446ms/step - loss: 0.1853 - accuracy: 0.9316 - val_loss: 0.1541 - val_accuracy: 0.9438\n"
          ]
        },
        {
          "output_type": "execute_result",
          "data": {
            "text/plain": [
              "<keras.callbacks.History at 0x7f62b4b31b50>"
            ]
          },
          "metadata": {},
          "execution_count": 25
        }
      ],
      "source": [
        "q_aware_model_dense.compile(optimizer='adam',\n",
        "              loss=tf.keras.losses.CategoricalCrossentropy(from_logits=True),\n",
        "              metrics=['accuracy'])\n",
        "\n",
        "q_aware_model_dense.fit(X_train, y_train,\n",
        "                  batch_size=500, epochs=2, validation_split=0.1)"
      ]
    },
    {
      "cell_type": "markdown",
      "source": [
        "Weight pruning based optimization"
      ],
      "metadata": {
        "id": "y4H6IWhW9Kn7"
      }
    },
    {
      "cell_type": "code",
      "source": [
        "baseline_model = load_model('baseline_model.h5')"
      ],
      "metadata": {
        "id": "6RKkPPvk9PmI"
      },
      "execution_count": 26,
      "outputs": []
    },
    {
      "cell_type": "markdown",
      "source": [
        "Apply a pruning scheduler"
      ],
      "metadata": {
        "id": "qvsE9j1l-S-W"
      }
    },
    {
      "cell_type": "code",
      "execution_count": 27,
      "metadata": {
        "colab": {
          "base_uri": "https://localhost:8080/"
        },
        "id": "dKo-cxEWwjF4",
        "outputId": "69c92c85-71bb-4706-f189-5350715454ca"
      },
      "outputs": [
        {
          "output_type": "stream",
          "name": "stdout",
          "text": [
            "Model: \"sequential\"\n",
            "_________________________________________________________________\n",
            " Layer (type)                Output Shape              Param #   \n",
            "=================================================================\n",
            " prune_low_magnitude_conv2d   (None, 26, 26, 32)       610       \n",
            " (PruneLowMagnitude)                                             \n",
            "                                                                 \n",
            " prune_low_magnitude_max_poo  (None, 13, 13, 32)       1         \n",
            " ling2d (PruneLowMagnitude)                                      \n",
            "                                                                 \n",
            " prune_low_magnitude_conv2d_  (None, 11, 11, 64)       36930     \n",
            " 1 (PruneLowMagnitude)                                           \n",
            "                                                                 \n",
            " prune_low_magnitude_max_poo  (None, 5, 5, 64)         1         \n",
            " ling2d_1 (PruneLowMagnitude                                     \n",
            " )                                                               \n",
            "                                                                 \n",
            " prune_low_magnitude_flatten  (None, 1600)             1         \n",
            "  (PruneLowMagnitude)                                            \n",
            "                                                                 \n",
            " prune_low_magnitude_dropout  (None, 1600)             1         \n",
            "  (PruneLowMagnitude)                                            \n",
            "                                                                 \n",
            " prune_low_magnitude_dense (  (None, 100)              320102    \n",
            " PruneLowMagnitude)                                              \n",
            "                                                                 \n",
            " prune_low_magnitude_dense_1  (None, 10)               2012      \n",
            "  (PruneLowMagnitude)                                            \n",
            "                                                                 \n",
            "=================================================================\n",
            "Total params: 359,658\n",
            "Trainable params: 179,926\n",
            "Non-trainable params: 179,732\n",
            "_________________________________________________________________\n"
          ]
        }
      ],
      "source": [
        "import tensorflow_model_optimization as tfmot\n",
        "\n",
        "prune_low_magnitude = tfmot.sparsity.keras.prune_low_magnitude\n",
        "\n",
        "batch_size = 128\n",
        "epochs = 2\n",
        "validation_split = 0.1 # 10% of training set will be used for validation set. \n",
        "\n",
        "num_samples = X_train.shape[0] * (1 - validation_split)\n",
        "end_step = np.ceil(num_samples / batch_size).astype(np.int32) * epochs\n",
        "\n",
        "# Define model for pruning.\n",
        "pruning_params = {\n",
        "      'pruning_schedule': tfmot.sparsity.keras.PolynomialDecay(initial_sparsity=0.40,\n",
        "                                                               final_sparsity=0.75,\n",
        "                                                               begin_step=0,\n",
        "                                                               end_step=end_step)\n",
        "}\n",
        "\n",
        "model_for_pruning = prune_low_magnitude(baseline_model, **pruning_params)\n",
        "\n",
        "# `prune_low_magnitude` requires a recompile.\n",
        "model_for_pruning.compile(optimizer='adam',\n",
        "              loss=tf.keras.losses.CategoricalCrossentropy(from_logits=True),\n",
        "              metrics=['accuracy'])\n",
        "\n",
        "model_for_pruning.summary()"
      ]
    },
    {
      "cell_type": "markdown",
      "source": [
        "Train the model"
      ],
      "metadata": {
        "id": "WTH-RUP5-XeD"
      }
    },
    {
      "cell_type": "code",
      "execution_count": 28,
      "metadata": {
        "colab": {
          "base_uri": "https://localhost:8080/"
        },
        "id": "DWWnzUEd1rWU",
        "outputId": "59464dd2-3fc1-46d9-b9a3-886cb02233d8"
      },
      "outputs": [
        {
          "output_type": "stream",
          "name": "stdout",
          "text": [
            "Epoch 1/2\n",
            "422/422 [==============================] - 52s 114ms/step - loss: 0.2569 - accuracy: 0.9038 - val_loss: 0.2485 - val_accuracy: 0.9075\n",
            "Epoch 2/2\n",
            "422/422 [==============================] - 46s 109ms/step - loss: 0.2950 - accuracy: 0.8915 - val_loss: 0.2379 - val_accuracy: 0.9112\n"
          ]
        },
        {
          "output_type": "execute_result",
          "data": {
            "text/plain": [
              "<keras.callbacks.History at 0x7f62b5629af0>"
            ]
          },
          "metadata": {},
          "execution_count": 28
        }
      ],
      "source": [
        "import tempfile\n",
        "\n",
        "\n",
        "log_dir = tempfile.mkdtemp()\n",
        "callbacks = [\n",
        "    tfmot.sparsity.keras.UpdatePruningStep(),\n",
        "    tfmot.sparsity.keras.PruningSummaries(log_dir=log_dir)\n",
        "]\n",
        "\n",
        "model_for_pruning.fit(X_train, y_train,\n",
        "                  batch_size=batch_size, epochs=epochs, validation_split=validation_split,\n",
        "                  callbacks=callbacks)"
      ]
    },
    {
      "cell_type": "markdown",
      "source": [
        "Export and save the model"
      ],
      "metadata": {
        "id": "z99zMUDT_JDv"
      }
    },
    {
      "cell_type": "code",
      "execution_count": 30,
      "metadata": {
        "colab": {
          "base_uri": "https://localhost:8080/"
        },
        "id": "wpEYHP-08-Bl",
        "outputId": "9fb69dd0-3350-49a0-fd64-d6e3404eb2b8"
      },
      "outputs": [
        {
          "output_type": "stream",
          "name": "stderr",
          "text": [
            "WARNING:absl:Found untraced functions such as _jit_compiled_convolution_op, _jit_compiled_convolution_op while saving (showing 2 of 2). These functions will not be directly callable after loading.\n"
          ]
        },
        {
          "output_type": "execute_result",
          "data": {
            "text/plain": [
              "723104"
            ]
          },
          "metadata": {},
          "execution_count": 30
        }
      ],
      "source": [
        "model_for_export = tfmot.sparsity.keras.strip_pruning(model_for_pruning)\n",
        "\n",
        "converter = tf.lite.TFLiteConverter.from_keras_model(model_for_export)\n",
        "tflite_model_pruned = converter.convert()\n",
        "\n",
        "import pathlib\n",
        "tflite_models_dir = pathlib.Path(\"/content/tflite_models/\")\n",
        "tflite_models_dir.mkdir(exist_ok=True, parents=True)\n",
        "tflite_model_file = tflite_models_dir/\"model_pruned.tflite\"\n",
        "tflite_model_file.write_bytes(tflite_model_pruned)\n"
      ]
    },
    {
      "cell_type": "markdown",
      "source": [
        "Evaluate on the test set"
      ],
      "metadata": {
        "id": "jUT2NFpUKjME"
      }
    },
    {
      "cell_type": "code",
      "execution_count": 31,
      "metadata": {
        "colab": {
          "base_uri": "https://localhost:8080/"
        },
        "id": "CDF_AvIc9pes",
        "outputId": "9867e526-5739-4f30-cd48-23816157f662"
      },
      "outputs": [
        {
          "output_type": "stream",
          "name": "stdout",
          "text": [
            "0.8966\n"
          ]
        }
      ],
      "source": [
        "tflite_model_file = 'tflite_models/model_pruned.tflite'          \n",
        "interpreter = tf.lite.Interpreter(model_path=tflite_model_file)\n",
        "interpreter.allocate_tensors()\n",
        "\n",
        "input_index = interpreter.get_input_details()[0][\"index\"]\n",
        "output_index = interpreter.get_output_details()[0][\"index\"]\n",
        "\n",
        "pred_list = []\n",
        "for images in X_test:\n",
        "  input_data = np.array(images, dtype=np.float32)\n",
        "\n",
        "  input_data = input_data.reshape(1, input_data.shape[0], input_data.shape[1], 1)\n",
        "\n",
        "  interpreter.set_tensor(input_index, input_data)\n",
        "  interpreter.invoke()\n",
        "  prediction = interpreter.get_tensor(output_index)\n",
        "  prediction = np.argmax(prediction)\n",
        "  pred_list.append(prediction)\n",
        "\n",
        "accurate_count = 0\n",
        "for index in range(len(pred_list)):\n",
        "  if pred_list[index] == np.argmax(y_test[index]):\n",
        "      accurate_count += 1\n",
        "accuracy = accurate_count * 1.0 / len(pred_list)\n",
        "\n",
        "print(accuracy)"
      ]
    },
    {
      "cell_type": "markdown",
      "source": [
        "Save model file in a compressed zip format"
      ],
      "metadata": {
        "id": "hX16UIYuKmk5"
      }
    },
    {
      "cell_type": "code",
      "execution_count": 32,
      "metadata": {
        "colab": {
          "base_uri": "https://localhost:8080/"
        },
        "id": "IXqWJ6Qm-ABD",
        "outputId": "fe35a5cc-70b6-41f3-ce43-ae680ed574e8"
      },
      "outputs": [
        {
          "output_type": "stream",
          "name": "stdout",
          "text": [
            "Size of compresssed baseline model: 670637.00 bytes\n",
            "Size of zipped pruned TFlite model: 246983.00 bytes\n"
          ]
        }
      ],
      "source": [
        "def get_gzipped_model(file):\n",
        "  import os\n",
        "  import zipfile\n",
        "  import tempfile\n",
        "\n",
        "  _, zipped_file = tempfile.mkstemp('.zip')\n",
        "  with zipfile.ZipFile(zipped_file, 'w', compression=zipfile.ZIP_DEFLATED) as f:\n",
        "    f.write(file)\n",
        "\n",
        "  return os.path.getsize(zipped_file)\n",
        "\n",
        "print(\"Size of compresssed baseline model: %.2f bytes\" % (get_gzipped_model('tflite_models/model.tflite')))\n",
        "\n",
        "print(\"Size of zipped pruned TFlite model: %.2f bytes\" % (get_gzipped_model('tflite_models/model_pruned.tflite')))\n"
      ]
    },
    {
      "cell_type": "markdown",
      "source": [
        "Selective pruning only to the dense layers"
      ],
      "metadata": {
        "id": "_6Md4_bLKqxE"
      }
    },
    {
      "cell_type": "code",
      "execution_count": 33,
      "metadata": {
        "colab": {
          "base_uri": "https://localhost:8080/"
        },
        "id": "bZwMs7-sOo6_",
        "outputId": "e8d143f4-68f0-4d6e-8d26-28f3ab06036a"
      },
      "outputs": [
        {
          "output_type": "stream",
          "name": "stdout",
          "text": [
            "Model: \"sequential\"\n",
            "_________________________________________________________________\n",
            " Layer (type)                Output Shape              Param #   \n",
            "=================================================================\n",
            " conv2d (Conv2D)             (None, 26, 26, 32)        320       \n",
            "                                                                 \n",
            " max_pooling2d (MaxPooling2D  (None, 13, 13, 32)       0         \n",
            " )                                                               \n",
            "                                                                 \n",
            " conv2d_1 (Conv2D)           (None, 11, 11, 64)        18496     \n",
            "                                                                 \n",
            " max_pooling2d_1 (MaxPooling  (None, 5, 5, 64)         0         \n",
            " 2D)                                                             \n",
            "                                                                 \n",
            " flatten (Flatten)           (None, 1600)              0         \n",
            "                                                                 \n",
            " dropout (Dropout)           (None, 1600)              0         \n",
            "                                                                 \n",
            " prune_low_magnitude_dense (  (None, 100)              320102    \n",
            " PruneLowMagnitude)                                              \n",
            "                                                                 \n",
            " prune_low_magnitude_dense_1  (None, 10)               2012      \n",
            "  (PruneLowMagnitude)                                            \n",
            "                                                                 \n",
            "=================================================================\n",
            "Total params: 340,930\n",
            "Trainable params: 179,926\n",
            "Non-trainable params: 161,004\n",
            "_________________________________________________________________\n"
          ]
        }
      ],
      "source": [
        "baseline_model = load_model('baseline_model.h5')\n",
        "def apply_pruning(layer):\n",
        "  if isinstance(layer, tf.keras.layers.Dense):\n",
        "    return tfmot.sparsity.keras.prune_low_magnitude(layer)\n",
        "  return layer\n",
        "\n",
        "model_for_pruning = tf.keras.models.clone_model(\n",
        "    baseline_model,\n",
        "    clone_function=apply_pruning)\n",
        "\n",
        "model_for_pruning.summary()"
      ]
    },
    {
      "cell_type": "code",
      "execution_count": 34,
      "metadata": {
        "colab": {
          "base_uri": "https://localhost:8080/"
        },
        "id": "vMm3d3GgWzIE",
        "outputId": "cae43642-523c-4e93-c3e0-99e032943de1"
      },
      "outputs": [
        {
          "output_type": "stream",
          "name": "stdout",
          "text": [
            "Epoch 1/2\n"
          ]
        },
        {
          "output_type": "stream",
          "name": "stderr",
          "text": [
            "/usr/local/lib/python3.9/dist-packages/keras/backend.py:5561: UserWarning: \"`categorical_crossentropy` received `from_logits=True`, but the `output` argument was produced by a Softmax activation and thus does not represent logits. Was this intended?\n",
            "  output, from_logits = _get_logits(\n"
          ]
        },
        {
          "output_type": "stream",
          "name": "stdout",
          "text": [
            "422/422 [==============================] - 50s 114ms/step - loss: 0.2077 - accuracy: 0.9224 - val_loss: 0.1716 - val_accuracy: 0.9402\n",
            "Epoch 2/2\n",
            "422/422 [==============================] - 48s 113ms/step - loss: 0.1969 - accuracy: 0.9265 - val_loss: 0.1665 - val_accuracy: 0.9365\n"
          ]
        },
        {
          "output_type": "execute_result",
          "data": {
            "text/plain": [
              "<keras.callbacks.History at 0x7f6339852640>"
            ]
          },
          "metadata": {},
          "execution_count": 34
        }
      ],
      "source": [
        "model_for_pruning.compile(optimizer='adam',\n",
        "              loss=tf.keras.losses.CategoricalCrossentropy(from_logits=True),\n",
        "              metrics=['accuracy'])\n",
        "\n",
        "log_dir = tempfile.mkdtemp()\n",
        "callbacks = [\n",
        "    tfmot.sparsity.keras.UpdatePruningStep(),\n",
        "    tfmot.sparsity.keras.PruningSummaries(log_dir=log_dir)\n",
        "]\n",
        "\n",
        "model_for_pruning.fit(X_train, y_train,\n",
        "                  batch_size=batch_size, epochs=epochs, validation_split=validation_split,\n",
        "                  callbacks=callbacks)"
      ]
    },
    {
      "cell_type": "code",
      "execution_count": 35,
      "metadata": {
        "colab": {
          "base_uri": "https://localhost:8080/"
        },
        "id": "fwgQGf09Xf9I",
        "outputId": "134704b6-3312-4f42-8859-878b566942ab"
      },
      "outputs": [
        {
          "output_type": "stream",
          "name": "stderr",
          "text": [
            "WARNING:absl:Found untraced functions such as _jit_compiled_convolution_op, _jit_compiled_convolution_op while saving (showing 2 of 2). These functions will not be directly callable after loading.\n"
          ]
        },
        {
          "output_type": "execute_result",
          "data": {
            "text/plain": [
              "723104"
            ]
          },
          "metadata": {},
          "execution_count": 35
        }
      ],
      "source": [
        "model_for_export = tfmot.sparsity.keras.strip_pruning(model_for_pruning)\n",
        "\n",
        "converter = tf.lite.TFLiteConverter.from_keras_model(model_for_export)\n",
        "tflite_model_pruned_dense = converter.convert()\n",
        "\n",
        "tflite_models_dir = pathlib.Path(\"/content/tflite_models/\")\n",
        "tflite_models_dir.mkdir(exist_ok=True, parents=True)\n",
        "tflite_model_file = tflite_models_dir/\"model_pruned_dense.tflite\"\n",
        "tflite_model_file.write_bytes(tflite_model_pruned_dense)"
      ]
    },
    {
      "cell_type": "markdown",
      "source": [
        "Check compressed model size"
      ],
      "metadata": {
        "id": "M-xayrfD9VnA"
      }
    },
    {
      "cell_type": "code",
      "execution_count": 36,
      "metadata": {
        "colab": {
          "base_uri": "https://localhost:8080/"
        },
        "id": "NC0h0usjX1lS",
        "outputId": "55b77379-08b4-4e1c-df7f-b13f61958649"
      },
      "outputs": [
        {
          "output_type": "stream",
          "name": "stdout",
          "text": [
            "Size of compresssed baseline model: 670637.00 bytes\n",
            "Size of zipped pruned TFlite model: 246983.00 bytes\n",
            "Size of zipped pruned TFlite model only dense layers: 439924.00 bytes\n"
          ]
        }
      ],
      "source": [
        "print(\"Size of compresssed baseline model: %.2f bytes\" % (get_gzipped_model('tflite_models/model.tflite')))\n",
        "\n",
        "print(\"Size of zipped pruned TFlite model: %.2f bytes\" % (get_gzipped_model('tflite_models/model_pruned.tflite')))\n",
        "\n",
        "print(\"Size of zipped pruned TFlite model only dense layers: %.2f bytes\" % (get_gzipped_model('tflite_models/model_pruned_dense.tflite')))"
      ]
    },
    {
      "cell_type": "markdown",
      "source": [
        "Check the model performance where only the dense layers are pruned"
      ],
      "metadata": {
        "id": "DOBETrstLnZz"
      }
    },
    {
      "cell_type": "code",
      "execution_count": 37,
      "metadata": {
        "colab": {
          "base_uri": "https://localhost:8080/"
        },
        "id": "AYgw2VEHYErr",
        "outputId": "35fb5ebd-2991-4f00-9a56-84a6558cbd06"
      },
      "outputs": [
        {
          "output_type": "stream",
          "name": "stdout",
          "text": [
            "accuracy =  0.917\n"
          ]
        }
      ],
      "source": [
        "tflite_model_file = 'tflite_models/model_pruned_dense.tflite'          \n",
        "interpreter = tf.lite.Interpreter(model_path=tflite_model_file)\n",
        "interpreter.allocate_tensors()\n",
        "\n",
        "input_index = interpreter.get_input_details()[0][\"index\"]\n",
        "output_index = interpreter.get_output_details()[0][\"index\"]\n",
        "\n",
        "pred_list = []\n",
        "for images in X_test:\n",
        "  input_data = np.array(images, dtype=np.float32)\n",
        "\n",
        "  input_data = input_data.reshape(1, input_data.shape[0], input_data.shape[1], 1)\n",
        "\n",
        "  interpreter.set_tensor(input_index, input_data)\n",
        "  interpreter.invoke()\n",
        "  prediction = interpreter.get_tensor(output_index)\n",
        "  prediction = np.argmax(prediction)\n",
        "  pred_list.append(prediction)\n",
        "\n",
        "accurate_count = 0\n",
        "for index in range(len(pred_list)):\n",
        "  if pred_list[index] == np.argmax(y_test[index]):\n",
        "      accurate_count += 1\n",
        "accuracy = accurate_count * 1.0 / len(pred_list)\n",
        "\n",
        "print('accuracy = ', accuracy)"
      ]
    },
    {
      "cell_type": "markdown",
      "source": [
        "Optimization using weight clustering"
      ],
      "metadata": {
        "id": "xhfHyBiP9fgI"
      }
    },
    {
      "cell_type": "code",
      "execution_count": 38,
      "metadata": {
        "colab": {
          "base_uri": "https://localhost:8080/"
        },
        "id": "QlDPjjHj_Nat",
        "outputId": "c1b5ed6b-5abb-4345-84c2-114e6600f4b3"
      },
      "outputs": [
        {
          "output_type": "stream",
          "name": "stdout",
          "text": [
            "Model: \"sequential\"\n",
            "_________________________________________________________________\n",
            " Layer (type)                Output Shape              Param #   \n",
            "=================================================================\n",
            " cluster_conv2d (ClusterWeig  (None, 26, 26, 32)       624       \n",
            " hts)                                                            \n",
            "                                                                 \n",
            " cluster_max_pooling2d (Clus  (None, 13, 13, 32)       0         \n",
            " terWeights)                                                     \n",
            "                                                                 \n",
            " cluster_conv2d_1 (ClusterWe  (None, 11, 11, 64)       36944     \n",
            " ights)                                                          \n",
            "                                                                 \n",
            " cluster_max_pooling2d_1 (Cl  (None, 5, 5, 64)         0         \n",
            " usterWeights)                                                   \n",
            "                                                                 \n",
            " cluster_flatten (ClusterWei  (None, 1600)             0         \n",
            " ghts)                                                           \n",
            "                                                                 \n",
            " cluster_dropout (ClusterWei  (None, 1600)             0         \n",
            " ghts)                                                           \n",
            "                                                                 \n",
            " cluster_dense (ClusterWeigh  (None, 100)              320116    \n",
            " ts)                                                             \n",
            "                                                                 \n",
            " cluster_dense_1 (ClusterWei  (None, 10)               2026      \n",
            " ghts)                                                           \n",
            "                                                                 \n",
            "=================================================================\n",
            "Total params: 359,710\n",
            "Trainable params: 179,990\n",
            "Non-trainable params: 179,720\n",
            "_________________________________________________________________\n"
          ]
        }
      ],
      "source": [
        "baseline_model = load_model('baseline_model.h5')\n",
        "\n",
        "cluster_weights = tfmot.clustering.keras.cluster_weights\n",
        "CentroidInitialization = tfmot.clustering.keras.CentroidInitialization\n",
        "\n",
        "clustering_params = {\n",
        "  'number_of_clusters': 16,\n",
        "  'cluster_centroids_init': CentroidInitialization.KMEANS_PLUS_PLUS\n",
        "}\n",
        "\n",
        "# Cluster a whole model\n",
        "clustered_model = cluster_weights(baseline_model, **clustering_params)\n",
        "\n",
        "# Use smaller learning rate for fine-tuning clustered model\n",
        "opt = tf.keras.optimizers.Adam(learning_rate=1e-5)\n",
        "\n",
        "clustered_model.compile(\n",
        "  loss=tf.keras.losses.CategoricalCrossentropy(from_logits=True),\n",
        "  optimizer=opt,\n",
        "  metrics=['accuracy'])\n",
        "\n",
        "clustered_model.summary()"
      ]
    },
    {
      "cell_type": "markdown",
      "source": [
        "Train the model"
      ],
      "metadata": {
        "id": "UjnAYLQW9n7f"
      }
    },
    {
      "cell_type": "code",
      "execution_count": 39,
      "metadata": {
        "colab": {
          "base_uri": "https://localhost:8080/"
        },
        "id": "NTOrQoY6_fp0",
        "outputId": "1c81ce92-4ac2-42cf-f57f-0a64b3cf8c05"
      },
      "outputs": [
        {
          "output_type": "stream",
          "name": "stdout",
          "text": [
            "Epoch 1/2\n"
          ]
        },
        {
          "output_type": "stream",
          "name": "stderr",
          "text": [
            "/usr/local/lib/python3.9/dist-packages/keras/backend.py:5561: UserWarning: \"`categorical_crossentropy` received `from_logits=True`, but the `output` argument was produced by a Softmax activation and thus does not represent logits. Was this intended?\n",
            "  output, from_logits = _get_logits(\n"
          ]
        },
        {
          "output_type": "stream",
          "name": "stdout",
          "text": [
            "422/422 [==============================] - 70s 162ms/step - loss: 0.1654 - accuracy: 0.9396 - val_loss: 0.1581 - val_accuracy: 0.9420\n",
            "Epoch 2/2\n",
            "422/422 [==============================] - 57s 135ms/step - loss: 0.1570 - accuracy: 0.9428 - val_loss: 0.1576 - val_accuracy: 0.9395\n"
          ]
        },
        {
          "output_type": "execute_result",
          "data": {
            "text/plain": [
              "<keras.callbacks.History at 0x7f62a4db93a0>"
            ]
          },
          "metadata": {},
          "execution_count": 39
        }
      ],
      "source": [
        "# Fine-tune model\n",
        "clustered_model.fit(\n",
        "  X_train,\n",
        "  y_train,\n",
        "  batch_size=128,\n",
        "  epochs=2,\n",
        "  validation_split=0.1)"
      ]
    },
    {
      "cell_type": "markdown",
      "source": [
        "Save the model"
      ],
      "metadata": {
        "id": "UceoGMIG9tEg"
      }
    },
    {
      "cell_type": "code",
      "execution_count": 40,
      "metadata": {
        "colab": {
          "base_uri": "https://localhost:8080/"
        },
        "id": "qzHdv9BTBXnt",
        "outputId": "2733f2d9-fe88-40ec-86e2-68881091c538"
      },
      "outputs": [
        {
          "output_type": "stream",
          "name": "stderr",
          "text": [
            "WARNING:absl:Found untraced functions such as _jit_compiled_convolution_op, _jit_compiled_convolution_op while saving (showing 2 of 2). These functions will not be directly callable after loading.\n"
          ]
        },
        {
          "output_type": "execute_result",
          "data": {
            "text/plain": [
              "723104"
            ]
          },
          "metadata": {},
          "execution_count": 40
        }
      ],
      "source": [
        "model_for_export = tfmot.clustering.keras.strip_clustering(clustered_model)\n",
        "\n",
        "converter = tf.lite.TFLiteConverter.from_keras_model(model_for_export)\n",
        "tflite_model_clustered = converter.convert()\n",
        "\n",
        "tflite_models_dir = pathlib.Path(\"/content/tflite_models/\")\n",
        "tflite_models_dir.mkdir(exist_ok=True, parents=True)\n",
        "tflite_model_file = tflite_models_dir/\"model_clustered.tflite\"\n",
        "tflite_model_file.write_bytes(tflite_model_clustered)"
      ]
    },
    {
      "cell_type": "markdown",
      "source": [
        "Evaluate model performance"
      ],
      "metadata": {
        "id": "27rJKPk0-TpS"
      }
    },
    {
      "cell_type": "code",
      "execution_count": 41,
      "metadata": {
        "colab": {
          "base_uri": "https://localhost:8080/"
        },
        "id": "d2CE1wFyB9H0",
        "outputId": "78fe00e5-9d16-4db6-9e03-450bf33bff49"
      },
      "outputs": [
        {
          "output_type": "stream",
          "name": "stdout",
          "text": [
            "0.9124\n"
          ]
        }
      ],
      "source": [
        "tflite_model_file = 'tflite_models/model_clustered.tflite'          \n",
        "interpreter = tf.lite.Interpreter(model_path=tflite_model_file)\n",
        "interpreter.allocate_tensors()\n",
        "\n",
        "input_index = interpreter.get_input_details()[0][\"index\"]\n",
        "output_index = interpreter.get_output_details()[0][\"index\"]\n",
        "\n",
        "pred_list = []\n",
        "for images in X_test:\n",
        "  input_data = np.array(images, dtype=np.float32)\n",
        "\n",
        "  input_data = input_data.reshape(1, input_data.shape[0], input_data.shape[1], 1)\n",
        "\n",
        "  interpreter.set_tensor(input_index, input_data)\n",
        "  interpreter.invoke()\n",
        "  prediction = interpreter.get_tensor(output_index)\n",
        "  prediction = np.argmax(prediction)\n",
        "  pred_list.append(prediction)\n",
        "\n",
        "accurate_count = 0\n",
        "for index in range(len(pred_list)):\n",
        "  if pred_list[index] == np.argmax(y_test[index]):\n",
        "      accurate_count += 1\n",
        "accuracy = accurate_count * 1.0 / len(pred_list)\n",
        "\n",
        "print(accuracy)"
      ]
    },
    {
      "cell_type": "markdown",
      "source": [
        "Size of compresded model after clustering"
      ],
      "metadata": {
        "id": "TyYIw--l-Pp4"
      }
    },
    {
      "cell_type": "code",
      "execution_count": 42,
      "metadata": {
        "colab": {
          "base_uri": "https://localhost:8080/"
        },
        "id": "laLcwu79CGko",
        "outputId": "a00a9d12-c4d2-4047-bb44-dfb94bcab83d"
      },
      "outputs": [
        {
          "output_type": "stream",
          "name": "stdout",
          "text": [
            "Size of zipped clustered TFlite model: 125798.00 bytes\n"
          ]
        }
      ],
      "source": [
        "print(\"Size of zipped clustered TFlite model: %.2f bytes\" % (get_gzipped_model('tflite_models/model_clustered.tflite')))"
      ]
    },
    {
      "cell_type": "markdown",
      "source": [
        "Selective clustering on dense layers"
      ],
      "metadata": {
        "id": "Eht4Opcs-aQ6"
      }
    },
    {
      "cell_type": "code",
      "execution_count": 43,
      "metadata": {
        "colab": {
          "base_uri": "https://localhost:8080/"
        },
        "id": "8K2CTUXrHpi8",
        "outputId": "812ce6c9-e174-4866-f3f7-d860c35b1588"
      },
      "outputs": [
        {
          "output_type": "stream",
          "name": "stdout",
          "text": [
            "Model: \"sequential\"\n",
            "_________________________________________________________________\n",
            " Layer (type)                Output Shape              Param #   \n",
            "=================================================================\n",
            " conv2d (Conv2D)             (None, 26, 26, 32)        320       \n",
            "                                                                 \n",
            " max_pooling2d (MaxPooling2D  (None, 13, 13, 32)       0         \n",
            " )                                                               \n",
            "                                                                 \n",
            " conv2d_1 (Conv2D)           (None, 11, 11, 64)        18496     \n",
            "                                                                 \n",
            " max_pooling2d_1 (MaxPooling  (None, 5, 5, 64)         0         \n",
            " 2D)                                                             \n",
            "                                                                 \n",
            " flatten (Flatten)           (None, 1600)              0         \n",
            "                                                                 \n",
            " dropout (Dropout)           (None, 1600)              0         \n",
            "                                                                 \n",
            " cluster_dense (ClusterWeigh  (None, 100)              320103    \n",
            " ts)                                                             \n",
            "                                                                 \n",
            " cluster_dense_1 (ClusterWei  (None, 10)               2013      \n",
            " ghts)                                                           \n",
            "                                                                 \n",
            "=================================================================\n",
            "Total params: 340,932\n",
            "Trainable params: 179,932\n",
            "Non-trainable params: 161,000\n",
            "_________________________________________________________________\n"
          ]
        }
      ],
      "source": [
        "baseline_model = load_model('baseline_model.h5')\n",
        "\n",
        "cluster_weights = tfmot.clustering.keras.cluster_weights\n",
        "CentroidInitialization = tfmot.clustering.keras.CentroidInitialization\n",
        "\n",
        "clustering_params = {\n",
        "  'number_of_clusters': 3,\n",
        "  'cluster_centroids_init': CentroidInitialization.KMEANS_PLUS_PLUS\n",
        "}\n",
        "\n",
        "def apply_clustering(layer):\n",
        "  if isinstance(layer, tf.keras.layers.Dense):\n",
        "    return cluster_weights(layer, **clustering_params)\n",
        "  return layer\n",
        "\n",
        "clustered_model = tf.keras.models.clone_model(\n",
        "    baseline_model,\n",
        "    clone_function=apply_clustering,\n",
        ")\n",
        "\n",
        "clustered_model.summary()"
      ]
    },
    {
      "cell_type": "markdown",
      "source": [
        "Collaborative Quantization\n",
        "\n",
        "Sparsity preserving clustering\n",
        "\n",
        "\n",
        "Firt apply weight pruning and retrain"
      ],
      "metadata": {
        "id": "ZSkkuQtE-pJU"
      }
    },
    {
      "cell_type": "code",
      "execution_count": 45,
      "metadata": {
        "colab": {
          "base_uri": "https://localhost:8080/"
        },
        "id": "PqHDNNG2HeX_",
        "outputId": "a03a64e3-f0b0-4542-b98d-0d15176085a7"
      },
      "outputs": [
        {
          "output_type": "stream",
          "name": "stdout",
          "text": [
            "Model: \"sequential\"\n",
            "_________________________________________________________________\n",
            " Layer (type)                Output Shape              Param #   \n",
            "=================================================================\n",
            " prune_low_magnitude_conv2d   (None, 26, 26, 32)       610       \n",
            " (PruneLowMagnitude)                                             \n",
            "                                                                 \n",
            " prune_low_magnitude_max_poo  (None, 13, 13, 32)       1         \n",
            " ling2d (PruneLowMagnitude)                                      \n",
            "                                                                 \n",
            " prune_low_magnitude_conv2d_  (None, 11, 11, 64)       36930     \n",
            " 1 (PruneLowMagnitude)                                           \n",
            "                                                                 \n",
            " prune_low_magnitude_max_poo  (None, 5, 5, 64)         1         \n",
            " ling2d_1 (PruneLowMagnitude                                     \n",
            " )                                                               \n",
            "                                                                 \n",
            " prune_low_magnitude_flatten  (None, 1600)             1         \n",
            "  (PruneLowMagnitude)                                            \n",
            "                                                                 \n",
            " prune_low_magnitude_dropout  (None, 1600)             1         \n",
            "  (PruneLowMagnitude)                                            \n",
            "                                                                 \n",
            " prune_low_magnitude_dense (  (None, 100)              320102    \n",
            " PruneLowMagnitude)                                              \n",
            "                                                                 \n",
            " prune_low_magnitude_dense_1  (None, 10)               2012      \n",
            "  (PruneLowMagnitude)                                            \n",
            "                                                                 \n",
            "=================================================================\n",
            "Total params: 359,658\n",
            "Trainable params: 179,926\n",
            "Non-trainable params: 179,732\n",
            "_________________________________________________________________\n"
          ]
        }
      ],
      "source": [
        "import tensorflow_model_optimization as tfmot\n",
        "\n",
        "baseline_model = load_model('baseline_model.h5')\n",
        "\n",
        "prune_low_magnitude = tfmot.sparsity.keras.prune_low_magnitude\n",
        "\n",
        "pruning_params = {\n",
        "      'pruning_schedule': tfmot.sparsity.keras.ConstantSparsity(0.5, begin_step=0, frequency=100)\n",
        "  }\n",
        "\n",
        "callbacks = [\n",
        "  tfmot.sparsity.keras.UpdatePruningStep()\n",
        "]\n",
        "\n",
        "pruned_model = prune_low_magnitude(baseline_model, **pruning_params)\n",
        "pruned_model.summary()"
      ]
    },
    {
      "cell_type": "code",
      "execution_count": 46,
      "metadata": {
        "colab": {
          "base_uri": "https://localhost:8080/"
        },
        "id": "GoYdRq9QHw1z",
        "outputId": "7aecb2f0-92f9-4840-fba0-ebb5f7e61aa1"
      },
      "outputs": [
        {
          "output_type": "stream",
          "name": "stdout",
          "text": [
            "Model: \"sequential\"\n",
            "_________________________________________________________________\n",
            " Layer (type)                Output Shape              Param #   \n",
            "=================================================================\n",
            " prune_low_magnitude_conv2d   (None, 26, 26, 32)       610       \n",
            " (PruneLowMagnitude)                                             \n",
            "                                                                 \n",
            " prune_low_magnitude_max_poo  (None, 13, 13, 32)       1         \n",
            " ling2d (PruneLowMagnitude)                                      \n",
            "                                                                 \n",
            " prune_low_magnitude_conv2d_  (None, 11, 11, 64)       36930     \n",
            " 1 (PruneLowMagnitude)                                           \n",
            "                                                                 \n",
            " prune_low_magnitude_max_poo  (None, 5, 5, 64)         1         \n",
            " ling2d_1 (PruneLowMagnitude                                     \n",
            " )                                                               \n",
            "                                                                 \n",
            " prune_low_magnitude_flatten  (None, 1600)             1         \n",
            "  (PruneLowMagnitude)                                            \n",
            "                                                                 \n",
            " prune_low_magnitude_dropout  (None, 1600)             1         \n",
            "  (PruneLowMagnitude)                                            \n",
            "                                                                 \n",
            " prune_low_magnitude_dense (  (None, 100)              320102    \n",
            " PruneLowMagnitude)                                              \n",
            "                                                                 \n",
            " prune_low_magnitude_dense_1  (None, 10)               2012      \n",
            "  (PruneLowMagnitude)                                            \n",
            "                                                                 \n",
            "=================================================================\n",
            "Total params: 359,658\n",
            "Trainable params: 179,926\n",
            "Non-trainable params: 179,732\n",
            "_________________________________________________________________\n",
            "Epoch 1/3\n"
          ]
        },
        {
          "output_type": "stream",
          "name": "stderr",
          "text": [
            "/usr/local/lib/python3.9/dist-packages/keras/backend.py:5561: UserWarning: \"`categorical_crossentropy` received `from_logits=True`, but the `output` argument was produced by a Softmax activation and thus does not represent logits. Was this intended?\n",
            "  output, from_logits = _get_logits(\n"
          ]
        },
        {
          "output_type": "stream",
          "name": "stdout",
          "text": [
            "422/422 [==============================] - 51s 114ms/step - loss: 0.3448 - accuracy: 0.8698 - val_loss: 0.2823 - val_accuracy: 0.8992\n",
            "Epoch 2/3\n",
            "422/422 [==============================] - 45s 107ms/step - loss: 0.3137 - accuracy: 0.8838 - val_loss: 0.2407 - val_accuracy: 0.9143\n",
            "Epoch 3/3\n",
            "422/422 [==============================] - 48s 113ms/step - loss: 0.2838 - accuracy: 0.8951 - val_loss: 0.2233 - val_accuracy: 0.9202\n"
          ]
        },
        {
          "output_type": "execute_result",
          "data": {
            "text/plain": [
              "<keras.callbacks.History at 0x7f62b58a9fa0>"
            ]
          },
          "metadata": {},
          "execution_count": 46
        }
      ],
      "source": [
        "opt = tf.keras.optimizers.Adam(learning_rate=1e-5)\n",
        "\n",
        "pruned_model.compile(\n",
        "  loss=tf.keras.losses.CategoricalCrossentropy(from_logits=True),\n",
        "  optimizer=opt,\n",
        "  metrics=['accuracy'])\n",
        "\n",
        "pruned_model.summary()\n",
        "\n",
        "pruned_model.fit(X_train, y_train, batch_size=128, epochs=3,validation_split=0.1, callbacks=callbacks)"
      ]
    },
    {
      "cell_type": "markdown",
      "source": [
        "Export the pruned model"
      ],
      "metadata": {
        "id": "UhTFk8Iw_5uo"
      }
    },
    {
      "cell_type": "code",
      "execution_count": 47,
      "metadata": {
        "id": "N_ieouEDKBhV"
      },
      "outputs": [],
      "source": [
        "stripped_pruned_model = tfmot.sparsity.keras.strip_pruning(pruned_model)\n",
        "\n",
        "stripped_pruned_model_copy = tf.keras.models.clone_model(stripped_pruned_model)\n",
        "stripped_pruned_model_copy.set_weights(stripped_pruned_model.get_weights())"
      ]
    },
    {
      "cell_type": "markdown",
      "source": [
        "Sparsity preserving clustering"
      ],
      "metadata": {
        "id": "Qr-R_7X1_8d0"
      }
    },
    {
      "cell_type": "code",
      "execution_count": 48,
      "metadata": {
        "colab": {
          "base_uri": "https://localhost:8080/"
        },
        "id": "ofr6EF2iKQgF",
        "outputId": "cf586923-e490-4a5e-f7f7-3f79b03542cb"
      },
      "outputs": [
        {
          "output_type": "stream",
          "name": "stdout",
          "text": [
            "Epoch 1/3\n",
            "422/422 [==============================] - 63s 144ms/step - loss: 0.1847 - accuracy: 0.9310 - val_loss: 0.1712 - val_accuracy: 0.9355\n",
            "Epoch 2/3\n",
            "422/422 [==============================] - 55s 130ms/step - loss: 0.1641 - accuracy: 0.9381 - val_loss: 0.1864 - val_accuracy: 0.9328\n",
            "Epoch 3/3\n",
            "422/422 [==============================] - 56s 132ms/step - loss: 0.1574 - accuracy: 0.9401 - val_loss: 0.1732 - val_accuracy: 0.9315\n"
          ]
        },
        {
          "output_type": "execute_result",
          "data": {
            "text/plain": [
              "<keras.callbacks.History at 0x7f629eb67a60>"
            ]
          },
          "metadata": {},
          "execution_count": 48
        }
      ],
      "source": [
        "from tensorflow_model_optimization.python.core.clustering.keras.experimental import (\n",
        "    cluster,\n",
        ")\n",
        "\n",
        "cluster_weights = tfmot.clustering.keras.cluster_weights\n",
        "CentroidInitialization = tfmot.clustering.keras.CentroidInitialization.KMEANS_PLUS_PLUS\n",
        "\n",
        "cluster_weights = cluster.cluster_weights\n",
        "\n",
        "clustering_params = {\n",
        "  'number_of_clusters': 8,\n",
        "  'cluster_centroids_init': CentroidInitialization.KMEANS_PLUS_PLUS,\n",
        "  'preserve_sparsity': True\n",
        "}\n",
        "\n",
        "sparsity_clustered_model = cluster_weights(stripped_pruned_model_copy, **clustering_params)\n",
        "\n",
        "sparsity_clustered_model.compile(optimizer='adam',\n",
        "              loss=tf.keras.losses.CategoricalCrossentropy(from_logits=True),\n",
        "              metrics=['accuracy'])\n",
        "\n",
        "sparsity_clustered_model.fit(X_train, y_train, batch_size=128, epochs=3, validation_split=0.1)"
      ]
    },
    {
      "cell_type": "markdown",
      "source": [
        "Save with post training quantization"
      ],
      "metadata": {
        "id": "1vS-PZUgAyLl"
      }
    },
    {
      "cell_type": "code",
      "execution_count": 49,
      "metadata": {
        "colab": {
          "base_uri": "https://localhost:8080/"
        },
        "id": "w5Vbd3kYL7aJ",
        "outputId": "3da09974-f0dd-4114-e13a-9af0d360eca6"
      },
      "outputs": [
        {
          "output_type": "stream",
          "name": "stderr",
          "text": [
            "WARNING:absl:Found untraced functions such as _jit_compiled_convolution_op, _jit_compiled_convolution_op while saving (showing 2 of 2). These functions will not be directly callable after loading.\n"
          ]
        },
        {
          "output_type": "execute_result",
          "data": {
            "text/plain": [
              "188672"
            ]
          },
          "metadata": {},
          "execution_count": 49
        }
      ],
      "source": [
        "stripped_sparsity_clustered_model = tfmot.clustering.keras.strip_clustering(sparsity_clustered_model)\n",
        "\n",
        "converter = tf.lite.TFLiteConverter.from_keras_model(stripped_sparsity_clustered_model)\n",
        "converter.optimizations = [tf.lite.Optimize.DEFAULT]\n",
        "sparsity_clustered_quant_model = converter.convert()\n",
        "\n",
        "import pathlib\n",
        "tflite_models_dir = pathlib.Path(\"/content/tflite_models/\")\n",
        "tflite_models_dir.mkdir(exist_ok=True, parents=True)\n",
        "tflite_model_file = tflite_models_dir/\"model_sparsity_clustered_qunat.tflite\"\n",
        "tflite_model_file.write_bytes(sparsity_clustered_quant_model)\n",
        "\n"
      ]
    },
    {
      "cell_type": "markdown",
      "source": [
        "Evaluate the model performance"
      ],
      "metadata": {
        "id": "pH6FYDBjA6Ra"
      }
    },
    {
      "cell_type": "code",
      "execution_count": 50,
      "metadata": {
        "colab": {
          "base_uri": "https://localhost:8080/"
        },
        "id": "KW5Car8KNLzR",
        "outputId": "2cda627a-1019-44bb-eae4-7ceb7dc42288"
      },
      "outputs": [
        {
          "output_type": "stream",
          "name": "stdout",
          "text": [
            "0.9112\n"
          ]
        }
      ],
      "source": [
        "tflite_model_file = 'tflite_models/model_sparsity_clustered_qunat.tflite'          \n",
        "interpreter = tf.lite.Interpreter(model_path=tflite_model_file)\n",
        "interpreter.allocate_tensors()\n",
        "\n",
        "input_index = interpreter.get_input_details()[0][\"index\"]\n",
        "output_index = interpreter.get_output_details()[0][\"index\"]\n",
        "\n",
        "pred_list = []\n",
        "for images in X_test:\n",
        "  input_data = np.array(images, dtype=np.float32)\n",
        "\n",
        "  input_data = input_data.reshape(1, input_data.shape[0], input_data.shape[1], 1)\n",
        "\n",
        "  interpreter.set_tensor(input_index, input_data)\n",
        "  interpreter.invoke()\n",
        "  prediction = interpreter.get_tensor(output_index)\n",
        "  prediction = np.argmax(prediction)\n",
        "  pred_list.append(prediction)\n",
        "\n",
        "accurate_count = 0\n",
        "for index in range(len(pred_list)):\n",
        "  if pred_list[index] == np.argmax(y_test[index]):\n",
        "      accurate_count += 1\n",
        "accuracy = accurate_count * 1.0 / len(pred_list)\n",
        "\n",
        "print(accuracy)"
      ]
    },
    {
      "cell_type": "markdown",
      "source": [
        "Check the compressed model size"
      ],
      "metadata": {
        "id": "tE0bnHRTBCNd"
      }
    },
    {
      "cell_type": "code",
      "execution_count": 51,
      "metadata": {
        "id": "DtTZW0q3OdJv"
      },
      "outputs": [],
      "source": [
        "def get_gzipped_model(file):\n",
        "  import os\n",
        "  import zipfile\n",
        "  import tempfile\n",
        "\n",
        "  _, zipped_file = tempfile.mkstemp('.zip')\n",
        "  with zipfile.ZipFile(zipped_file, 'w', compression=zipfile.ZIP_DEFLATED) as f:\n",
        "    f.write(file)\n",
        "\n",
        "  return os.path.getsize(zipped_file)"
      ]
    },
    {
      "cell_type": "code",
      "execution_count": 52,
      "metadata": {
        "colab": {
          "base_uri": "https://localhost:8080/"
        },
        "id": "PW43bUuiNxyg",
        "outputId": "6b8ccc1b-5ca7-4e37-a48a-504023620aaf"
      },
      "outputs": [
        {
          "output_type": "stream",
          "name": "stdout",
          "text": [
            "Size of zipped sparsity preserved clustered TFlite model: 61264.00 bytes\n"
          ]
        }
      ],
      "source": [
        "print(\"Size of zipped sparsity preserved clustered TFlite model: %.2f bytes\" % (get_gzipped_model('tflite_models/model_sparsity_clustered_qunat.tflite')))"
      ]
    }
  ],
  "metadata": {
    "colab": {
      "provenance": []
    },
    "kernelspec": {
      "display_name": "Python 3",
      "name": "python3"
    },
    "language_info": {
      "name": "python"
    }
  },
  "nbformat": 4,
  "nbformat_minor": 0
}