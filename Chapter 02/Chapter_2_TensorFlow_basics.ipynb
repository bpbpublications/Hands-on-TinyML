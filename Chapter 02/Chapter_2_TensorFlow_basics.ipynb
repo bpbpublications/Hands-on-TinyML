{
  "cells": [
    {
      "cell_type": "code",
      "execution_count": 1,
      "metadata": {
        "id": "jpv6fJOrtspA"
      },
      "outputs": [],
      "source": [
        "import tensorflow as tf"
      ]
    },
    {
      "cell_type": "code",
      "execution_count": 2,
      "metadata": {
        "colab": {
          "base_uri": "https://localhost:8080/",
          "height": 37
        },
        "id": "-epFsI3Wt-eF",
        "outputId": "ab5153b6-3b98-4bc9-d787-ed2e484596ed"
      },
      "outputs": [
        {
          "output_type": "execute_result",
          "data": {
            "text/plain": [
              "'2.12.0'"
            ],
            "application/vnd.google.colaboratory.intrinsic+json": {
              "type": "string"
            }
          },
          "metadata": {},
          "execution_count": 2
        }
      ],
      "source": [
        "tf.__version__"
      ]
    },
    {
      "cell_type": "markdown",
      "source": [
        "TensorFlow constants"
      ],
      "metadata": {
        "id": "EJx34pe16puN"
      }
    },
    {
      "cell_type": "code",
      "execution_count": 3,
      "metadata": {
        "colab": {
          "base_uri": "https://localhost:8080/"
        },
        "id": "g86YF0Jd2kEx",
        "outputId": "af13caae-4f66-4375-c815-31283ec5820e"
      },
      "outputs": [
        {
          "output_type": "stream",
          "name": "stdout",
          "text": [
            "tf.Tensor(10, shape=(), dtype=int32)\n",
            "tf.Tensor([10.  20.1], shape=(2,), dtype=float32)\n",
            "tf.Tensor(\n",
            "[[20.  25.5]\n",
            " [ 5.8 27. ]], shape=(2, 2), dtype=float32)\n",
            "shape of a_matrix =  (2, 2)\n",
            "rank of a_matrix =  tf.Tensor(2, shape=(), dtype=int32)\n"
          ]
        }
      ],
      "source": [
        "a_scalar = tf.constant(10, name=\"const1\")\n",
        "a_vector = tf.constant([10.0, 20.1], name=\"const2\")\n",
        "a_matrix = tf.constant([[20, 25.5],[5.8, 27]], name=\"const3\")\n",
        "\n",
        "print(a_scalar)\n",
        "print(a_vector)\n",
        "print(a_matrix)\n",
        "print(\"shape of a_matrix = \", a_matrix.get_shape())\n",
        "print(\"rank of a_matrix = \", tf.rank(a_matrix))"
      ]
    },
    {
      "cell_type": "markdown",
      "source": [
        "TensorFlow variables"
      ],
      "metadata": {
        "id": "H_xWpDce60rJ"
      }
    },
    {
      "cell_type": "code",
      "execution_count": 4,
      "metadata": {
        "colab": {
          "base_uri": "https://localhost:8080/"
        },
        "id": "6wBxCja09wlT",
        "outputId": "a11d3049-2d57-4824-f76f-60b722140c57"
      },
      "outputs": [
        {
          "output_type": "stream",
          "name": "stdout",
          "text": [
            "tf.Tensor(\n",
            "[[[ 1.  2.  3.]\n",
            "  [ 4.  5.  6.]]\n",
            "\n",
            " [[ 7.  8.  9.]\n",
            "  [10. 11. 12.]]], shape=(2, 2, 3), dtype=float32)\n",
            "new tensor after modifying an element = \n",
            "tf.Tensor(\n",
            "[[[ 1.  2.  3.]\n",
            "  [ 4.  5. 25.]]\n",
            "\n",
            " [[ 7.  8.  9.]\n",
            "  [10. 11. 12.]]], shape=(2, 2, 3), dtype=float32)\n",
            "data type after conversion to numpy array =  <class 'numpy.ndarray'>\n"
          ]
        }
      ],
      "source": [
        "var_1 = tf.Variable([[[1.,2.,3.,],[4.,5.,6.]],[[7.,8.,9.],[10.,11.,12.]]])\n",
        "print(var_1.value())\n",
        "\n",
        "var_1[0,1,2].assign(25)\n",
        "print(\"new tensor after modifying an element = \")\n",
        "print(var_1.value()) \n",
        "# convert in to numpy array\n",
        "numpy_var = var_1.numpy()\n",
        "print(\"data type after conversion to numpy array = \", type(numpy_var))"
      ]
    },
    {
      "cell_type": "markdown",
      "source": [
        "Gradient i TensorFlow"
      ],
      "metadata": {
        "id": "_7NqqbUL6-Mc"
      }
    },
    {
      "cell_type": "code",
      "execution_count": 5,
      "metadata": {
        "colab": {
          "base_uri": "https://localhost:8080/"
        },
        "id": "jMfWvaIJf3Nd",
        "outputId": "4d97444d-ad2a-46af-ca5d-4cd22ca1e3c8"
      },
      "outputs": [
        {
          "output_type": "stream",
          "name": "stdout",
          "text": [
            "80.0\n"
          ]
        }
      ],
      "source": [
        "x = tf.Variable(5.0);\n",
        "\n",
        "with tf.GradientTape() as tape:\n",
        "  y = x**3+ 5*x+ 2\n",
        "dy_dx = tape.gradient(y, x) # calcuates the gradient 3*x**2 + 5\n",
        "print(dy_dx.numpy())"
      ]
    },
    {
      "cell_type": "code",
      "execution_count": 7,
      "metadata": {
        "colab": {
          "base_uri": "https://localhost:8080/"
        },
        "id": "dPNsB3EvmAFl",
        "outputId": "92801da6-108d-44c3-a11e-6b3c60c62bd6"
      },
      "outputs": [
        {
          "output_type": "stream",
          "name": "stdout",
          "text": [
            "tf.Tensor(22.829775, shape=(), dtype=float32)\n",
            "(3, 2)\n"
          ]
        }
      ],
      "source": [
        "x = tf.constant([[1.,2.,3.],[4.,5.,6.]])\n",
        "w = tf.Variable(tf.random.normal((3, 2)), name='w')\n",
        "b = tf.Variable(tf.zeros(2, dtype=tf.float32), name='b')\n",
        "\n",
        "with tf.GradientTape(persistent=True) as tape:\n",
        "  y = tf.matmul(x, w) + b\n",
        "  loss = tf.reduce_mean(y**2)\n",
        "  print(loss)\n",
        "[dl_dw, dl_db] = tape.gradient(loss, [w, b])\n",
        "print(dl_dw.shape)"
      ]
    },
    {
      "cell_type": "markdown",
      "source": [
        "TensorFlow graph execution"
      ],
      "metadata": {
        "id": "xCK6sKFr7PiA"
      }
    },
    {
      "cell_type": "code",
      "source": [
        "def my_func(x, y, b):\n",
        "  return tf.matmul(x,y) + b\n",
        "# convert it to a Function\n",
        "@tf.function\n",
        "def tf_myfunc(x):\n",
        "  y = tf.constant([[2.0], [3.0]])\n",
        "  b = tf.constant(4.0)\n",
        "  return my_func(x, y, b)\n",
        "# call the function tf_myfunc\n",
        "tf_myfunc(tf.constant([[10.0, 15.0]])).numpy()    "
      ],
      "metadata": {
        "colab": {
          "base_uri": "https://localhost:8080/"
        },
        "id": "K8Bw0Xhct1eL",
        "outputId": "d711ddd9-4b8a-47f8-ea3a-45dfb5a6bcc2"
      },
      "execution_count": 9,
      "outputs": [
        {
          "output_type": "execute_result",
          "data": {
            "text/plain": [
              "array([[69.]], dtype=float32)"
            ]
          },
          "metadata": {},
          "execution_count": 9
        }
      ]
    },
    {
      "cell_type": "markdown",
      "source": [
        "Implementation of a linear regression model in TensorFlow\n",
        "\n",
        "load the library"
      ],
      "metadata": {
        "id": "0MkpWIEy7U-g"
      }
    },
    {
      "cell_type": "code",
      "source": [
        "import tensorflow as tf\n",
        "import numpy as np\n",
        "from numpy import random\n",
        "import matplotlib.pyplot as plt"
      ],
      "metadata": {
        "id": "nTgwvEdfsvWY"
      },
      "execution_count": 10,
      "outputs": []
    },
    {
      "cell_type": "markdown",
      "source": [
        "Data generation"
      ],
      "metadata": {
        "id": "V67oWkv67egW"
      }
    },
    {
      "cell_type": "code",
      "source": [
        "x = np.linspace(0.,5., 500)\n",
        "y = 2 * x + 3 + np.random.randn(len(x))\n",
        "plt.plot(x,y, '*')\n",
        "plt.xlabel('x values')\n",
        "plt.ylabel('y values')"
      ],
      "metadata": {
        "id": "79niBPaQs4Y9",
        "colab": {
          "base_uri": "https://localhost:8080/",
          "height": 466
        },
        "outputId": "4900fcb5-7515-479a-f3fc-e2fa0c90175b"
      },
      "execution_count": 11,
      "outputs": [
        {
          "output_type": "execute_result",
          "data": {
            "text/plain": [
              "Text(0, 0.5, 'y values')"
            ]
          },
          "metadata": {},
          "execution_count": 11
        },
        {
          "output_type": "display_data",
          "data": {
            "text/plain": [
              "<Figure size 640x480 with 1 Axes>"
            ],
            "image/png": "[encoded data removed]"
          },
          "metadata": {}
        }
      ]
    },
    {
      "cell_type": "markdown",
      "source": [
        "Split of training and test data "
      ],
      "metadata": {
        "id": "_ZoZGTT47qE_"
      }
    },
    {
      "cell_type": "code",
      "source": [
        "from sklearn.model_selection import train_test_split\n",
        "x_train, x_test, y_train, y_test = train_test_split(x, y, test_size = 0.25, random_state = 100)\n",
        "print((x_train.shape,x_test.shape)) "
      ],
      "metadata": {
        "colab": {
          "base_uri": "https://localhost:8080/"
        },
        "id": "pFftc4rJufY0",
        "outputId": "16f869e7-7b3f-4c85-b3c7-71e4f747ac6f"
      },
      "execution_count": 12,
      "outputs": [
        {
          "output_type": "stream",
          "name": "stdout",
          "text": [
            "((375,), (125,))\n"
          ]
        }
      ]
    },
    {
      "cell_type": "markdown",
      "source": [
        "Initial value declaration of the training parameters "
      ],
      "metadata": {
        "id": "UxDwNTZo7zD3"
      }
    },
    {
      "cell_type": "code",
      "source": [
        "w = tf.Variable(np.random.randn())\n",
        "b = tf.Variable(np.random.randn())"
      ],
      "metadata": {
        "id": "HJ4IGvXBGOQz"
      },
      "execution_count": 13,
      "outputs": []
    },
    {
      "cell_type": "markdown",
      "source": [
        "Defining the helper functions for calculating MSE loss function and gradient"
      ],
      "metadata": {
        "id": "99BaLAci793w"
      }
    },
    {
      "cell_type": "code",
      "source": [
        "def calc_mse(x, y, w, b):\n",
        "    y_pred = w * x + b\n",
        "    mse = tf.reduce_mean(tf.square(y_pred - y))\n",
        "    return mse  \n",
        "\n",
        "def calculate_gradient(x, y, w, b):\n",
        "    with tf.GradientTape() as tape:\n",
        "        loss_value = calc_mse(x, y, w, b)\n",
        "        \n",
        "    w_grad, b_grad = tape.gradient(loss_value, [w, b])\n",
        "    return w_grad, b_grad "
      ],
      "metadata": {
        "id": "2y3Aeb3fnQ0A"
      },
      "execution_count": 14,
      "outputs": []
    },
    {
      "cell_type": "markdown",
      "source": [
        "Learning of the network parameters by gradient descent "
      ],
      "metadata": {
        "id": "kmo-1u098LTb"
      }
    },
    {
      "cell_type": "code",
      "source": [
        "num_epochs = 500\n",
        "learning_rate = 0.001\n",
        "\n",
        "loss = [];\n",
        "epoch_list = []\n",
        "\n",
        "for epoch in range(num_epochs):\n",
        "    w_grad, b_grad = calculate_gradient(x_train, y_train, w, b)\n",
        "         \n",
        "    dW, dB = w_grad * learning_rate, b_grad * learning_rate \n",
        "    w.assign_sub(dW)\n",
        "    b.assign_sub(dB)\n",
        "\n",
        "    loss.append(calc_mse(x, y, w, b))\n",
        "    epoch_list.append(epoch)\n",
        "    if epoch % 10 == 0:\n",
        "      print(f\"Epoch: {epoch}, loss {calc_mse(x, y, w, b):.3f}\")        "
      ],
      "metadata": {
        "colab": {
          "base_uri": "https://localhost:8080/"
        },
        "id": "dciDlHv1JeL_",
        "outputId": "75418db2-942d-42af-9571-1484f6d44fea"
      },
      "execution_count": 15,
      "outputs": [
        {
          "output_type": "stream",
          "name": "stdout",
          "text": [
            "Epoch: 0, loss 93.388\n",
            "Epoch: 10, loss 65.915\n",
            "Epoch: 20, loss 46.781\n",
            "Epoch: 30, loss 33.454\n",
            "Epoch: 40, loss 24.168\n",
            "Epoch: 50, loss 17.696\n",
            "Epoch: 60, loss 13.184\n",
            "Epoch: 70, loss 10.037\n",
            "Epoch: 80, loss 7.839\n",
            "Epoch: 90, loss 6.304\n",
            "Epoch: 100, loss 5.229\n",
            "Epoch: 110, loss 4.475\n",
            "Epoch: 120, loss 3.945\n",
            "Epoch: 130, loss 3.570\n",
            "Epoch: 140, loss 3.305\n",
            "Epoch: 150, loss 3.115\n",
            "Epoch: 160, loss 2.978\n",
            "Epoch: 170, loss 2.877\n",
            "Epoch: 180, loss 2.803\n",
            "Epoch: 190, loss 2.746\n",
            "Epoch: 200, loss 2.703\n",
            "Epoch: 210, loss 2.668\n",
            "Epoch: 220, loss 2.639\n",
            "Epoch: 230, loss 2.615\n",
            "Epoch: 240, loss 2.593\n",
            "Epoch: 250, loss 2.574\n",
            "Epoch: 260, loss 2.557\n",
            "Epoch: 270, loss 2.541\n",
            "Epoch: 280, loss 2.525\n",
            "Epoch: 290, loss 2.511\n",
            "Epoch: 300, loss 2.496\n",
            "Epoch: 310, loss 2.482\n",
            "Epoch: 320, loss 2.469\n",
            "Epoch: 330, loss 2.455\n",
            "Epoch: 340, loss 2.442\n",
            "Epoch: 350, loss 2.429\n",
            "Epoch: 360, loss 2.417\n",
            "Epoch: 370, loss 2.404\n",
            "Epoch: 380, loss 2.391\n",
            "Epoch: 390, loss 2.379\n",
            "Epoch: 400, loss 2.367\n",
            "Epoch: 410, loss 2.355\n",
            "Epoch: 420, loss 2.343\n",
            "Epoch: 430, loss 2.331\n",
            "Epoch: 440, loss 2.319\n",
            "Epoch: 450, loss 2.307\n",
            "Epoch: 460, loss 2.296\n",
            "Epoch: 470, loss 2.284\n",
            "Epoch: 480, loss 2.273\n",
            "Epoch: 490, loss 2.262\n"
          ]
        }
      ]
    },
    {
      "cell_type": "markdown",
      "source": [
        "Plotting the loss"
      ],
      "metadata": {
        "id": "hvMXGOLs8oo3"
      }
    },
    {
      "cell_type": "code",
      "source": [
        "plt.plot(epoch_list, loss)\n",
        "plt.xlabel('number of epochs')\n",
        "plt.ylabel('loss')"
      ],
      "metadata": {
        "colab": {
          "base_uri": "https://localhost:8080/",
          "height": 466
        },
        "id": "YPNu1jdPqqx-",
        "outputId": "9c15c16f-728e-4bd5-e3b3-1fa995190009"
      },
      "execution_count": 16,
      "outputs": [
        {
          "output_type": "execute_result",
          "data": {
            "text/plain": [
              "Text(0, 0.5, 'loss')"
            ]
          },
          "metadata": {},
          "execution_count": 16
        },
        {
          "output_type": "display_data",
          "data": {
            "text/plain": [
              "<Figure size 640x480 with 1 Axes>"
            ],
            "image/png": "[encoded data removed]"
          },
          "metadata": {}
        }
      ]
    },
    {
      "cell_type": "markdown",
      "source": [
        "Save the parameters in a dictionary"
      ],
      "metadata": {
        "id": "H-KIovp684tQ"
      }
    },
    {
      "cell_type": "code",
      "source": [
        "params = {\"weight\":w, \"bias\":b}"
      ],
      "metadata": {
        "id": "LmP4EHPOtq0s"
      },
      "execution_count": 17,
      "outputs": []
    },
    {
      "cell_type": "markdown",
      "source": [
        "Predictor function"
      ],
      "metadata": {
        "id": "52Tj_gmR9AjA"
      }
    },
    {
      "cell_type": "code",
      "source": [
        "def predictor(x):\n",
        "  return params[\"weight\"] * x + params[\"bias\"]"
      ],
      "metadata": {
        "id": "n2KvrtQkrm2m"
      },
      "execution_count": 18,
      "outputs": []
    },
    {
      "cell_type": "markdown",
      "source": [
        "Plotting the best straight line"
      ],
      "metadata": {
        "id": "o8Mz_USA9Rhf"
      }
    },
    {
      "cell_type": "code",
      "source": [
        "plt.plot(x_train, y_train, '*')\n",
        "x_train_sort = np.sort(x_train)\n",
        "pred_final = predictor(x_train_sort)\n",
        "plt.plot(x_train_sort, pred_final,'r');\n",
        "plt.xlabel(\"x values\");\n",
        "plt.ylabel(\"y values\");"
      ],
      "metadata": {
        "colab": {
          "base_uri": "https://localhost:8080/",
          "height": 449
        },
        "id": "cjiBCw6SyTwb",
        "outputId": "cf794466-449a-487b-f375-5df00063e671"
      },
      "execution_count": 19,
      "outputs": [
        {
          "output_type": "display_data",
          "data": {
            "text/plain": [
              "<Figure size 640x480 with 1 Axes>"
            ],
            "image/png": "[encoded data removed]"
          },
          "metadata": {}
        }
      ]
    },
    {
      "cell_type": "markdown",
      "source": [
        "Evaluation on test set"
      ],
      "metadata": {
        "id": "7OYRYpVu9cmE"
      }
    },
    {
      "cell_type": "code",
      "source": [
        "y_test_pred = predictor(x_test) \n",
        "\n",
        "print(\"MSE on all test data\", calc_mse(x, y, params[\"weight\"], params[\"bias\"]).numpy())\n",
        "# select 5 random test data and check the performance \n",
        "indx = np.random.randint(0, 250, 5)\n",
        "for i in range(len(indx)):\n",
        "  print(f\"predicted value : {y_test_pred[i]:3f}, actual value {y_test[i]:.3f}\") "
      ],
      "metadata": {
        "colab": {
          "base_uri": "https://localhost:8080/"
        },
        "id": "Pc_foK0KwaxT",
        "outputId": "b2ec6ddc-f81e-4eaf-88fc-15e1bba335a4"
      },
      "execution_count": 21,
      "outputs": [
        {
          "output_type": "stream",
          "name": "stdout",
          "text": [
            "MSE on all test data 2.2515867\n",
            "predicted value : 2.571138, actual value 5.340\n",
            "predicted value : 1.494724, actual value 1.687\n",
            "predicted value : 13.389093, actual value 12.027\n",
            "predicted value : 9.971480, actual value 9.666\n",
            "predicted value : 2.167483, actual value 4.396\n"
          ]
        }
      ]
    }
  ],
  "metadata": {
    "colab": {
      "provenance": []
    },
    "kernelspec": {
      "display_name": "Python 3",
      "name": "python3"
    },
    "language_info": {
      "name": "python"
    }
  },
  "nbformat": 4,
  "nbformat_minor": 0
}