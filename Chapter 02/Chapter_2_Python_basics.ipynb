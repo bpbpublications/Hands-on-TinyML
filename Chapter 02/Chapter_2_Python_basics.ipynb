{
  "nbformat": 4,
  "nbformat_minor": 0,
  "metadata": {
    "colab": {
      "provenance": []
    },
    "kernelspec": {
      "name": "python3",
      "display_name": "Python 3"
    },
    "language_info": {
      "name": "python"
    }
  },
  "cells": [
    {
      "cell_type": "markdown",
      "source": [
        "Variable declaration in Python"
      ],
      "metadata": {
        "id": "BLhm2wQXxfh2"
      }
    },
    {
      "cell_type": "code",
      "execution_count": 1,
      "metadata": {
        "colab": {
          "base_uri": "https://localhost:8080/"
        },
        "id": "Zr9gXwioAbot",
        "outputId": "1fbd372f-2e04-4a69-b551-7a589346b433"
      },
      "outputs": [
        {
          "output_type": "stream",
          "name": "stdout",
          "text": [
            "an integer :  10\n",
            "a float :  15.8\n",
            "a string  TinyML\n"
          ]
        }
      ],
      "source": [
        "x = 10\n",
        "y = 15.8\n",
        "z = 'TinyML'\n",
        "\n",
        "print('an integer : ', x)\n",
        "print('a float : ', y)\n",
        "print('a string ', z)"
      ]
    },
    {
      "cell_type": "markdown",
      "source": [
        "Basic mathematical operations in Python"
      ],
      "metadata": {
        "id": "n4mCLT5TvaZN"
      }
    },
    {
      "cell_type": "code",
      "source": [
        "a = 10\n",
        "b = 20.2\n",
        "c = 5\n",
        "sum = a+b\n",
        "subtract = b-a\n",
        "mult = a*c\n",
        "\n",
        "print('addition : ', sum)\n",
        "print('subtraction : ', subtract)\n",
        "print('multiplication : ', mult)"
      ],
      "metadata": {
        "colab": {
          "base_uri": "https://localhost:8080/"
        },
        "id": "1JWudaX6Fl6f",
        "outputId": "1cfdd178-79b4-4fcb-cf8f-65e8f4baac99"
      },
      "execution_count": 2,
      "outputs": [
        {
          "output_type": "stream",
          "name": "stdout",
          "text": [
            "addition :  30.2\n",
            "subtraction :  10.2\n",
            "multiplication :  50\n"
          ]
        }
      ]
    },
    {
      "cell_type": "markdown",
      "source": [
        "String operations in Python"
      ],
      "metadata": {
        "id": "l5BAZgC3vtX6"
      }
    },
    {
      "cell_type": "code",
      "source": [
        "str1 = 'Hello'\n",
        "str2 = 'TinyML'\n",
        "str3 = str1+str2    # addition of two strings\n",
        "str4 = str1*2       # repeats the string\n",
        "\n",
        "print(str3) \n",
        "print(str4)\n",
        "print(str3[0])     # prints the first character of a string\n",
        "print(str3[3:6])   # prints fourth to sixth characters of a string\n",
        "print(str3[-1:])   # prints the last element of a string"
      ],
      "metadata": {
        "colab": {
          "base_uri": "https://localhost:8080/"
        },
        "id": "vNMU4_S4HikF",
        "outputId": "1b36e12a-ccb1-4c60-9937-68c5a0d75a6a"
      },
      "execution_count": 3,
      "outputs": [
        {
          "output_type": "stream",
          "name": "stdout",
          "text": [
            "HelloTinyML\n",
            "HelloHello\n",
            "H\n",
            "loT\n",
            "L\n"
          ]
        }
      ]
    },
    {
      "cell_type": "markdown",
      "source": [
        "Python list"
      ],
      "metadata": {
        "id": "UHZyCy0Mv0sm"
      }
    },
    {
      "cell_type": "code",
      "source": [
        "list_1 = [1, 2, 3, 4, 5]    # a list of integers\n",
        "list_2 = [10, 10.45, 'Tom'] # string of various data types\n",
        "list_3 = list_1 + list_2   # add the two lists\n",
        "\n",
        "print(\"list_3 : \",list_3)\n",
        "print(list_3[2:5])       # print from third to fifth element of the list\n",
        "print(list_3[-3:])      # print the last three elements of the list\n",
        "\n",
        "list_3.append(50)        # add an element at the end of the list\n",
        "print(\"list_3 : \",list_3)"
      ],
      "metadata": {
        "colab": {
          "base_uri": "https://localhost:8080/"
        },
        "id": "vHfT4pjEL5WN",
        "outputId": "89928553-199a-4175-b05d-9e6ac3f24a9c"
      },
      "execution_count": 4,
      "outputs": [
        {
          "output_type": "stream",
          "name": "stdout",
          "text": [
            "list_3 :  [1, 2, 3, 4, 5, 10, 10.45, 'Tom']\n",
            "[3, 4, 5]\n",
            "[10, 10.45, 'Tom']\n",
            "list_3 :  [1, 2, 3, 4, 5, 10, 10.45, 'Tom', 50]\n"
          ]
        }
      ]
    },
    {
      "cell_type": "markdown",
      "source": [
        "Python tuple"
      ],
      "metadata": {
        "id": "iIr_PLYMv3rv"
      }
    },
    {
      "cell_type": "code",
      "source": [
        "tuple_1 = (110, 20, 30, 40, 50)      # a tuple of strings\n",
        "tuple_2 = (20, 25.4, \"Tom\", \"Jerry\") # a tuple a of various data types\n",
        "tuple_3 = tuple_1 + tuple_2          # add the tuples to a get a new one\n",
        "\n",
        "print(tuple_3) \n",
        "print(tuple_3[2:6])                 # print from third to sixth element\n",
        "list_4 = [10, 50, 100, 120]         # define a list\n",
        "\n",
        "list_4[2] = 70.       # modify the third element of the list\n",
        "print(list_4)\n",
        "\n",
        "tuple_1[2] = 25     # will throw an error as tuple can not be updated"
      ],
      "metadata": {
        "colab": {
          "base_uri": "https://localhost:8080/",
          "height": 249
        },
        "id": "I3JP2mQ2RJtn",
        "outputId": "b823d9ca-f14d-48f4-c040-99c132725288"
      },
      "execution_count": 5,
      "outputs": [
        {
          "output_type": "stream",
          "name": "stdout",
          "text": [
            "(110, 20, 30, 40, 50, 20, 25.4, 'Tom', 'Jerry')\n",
            "(30, 40, 50, 20)\n",
            "[10, 50, 70.0, 120]\n"
          ]
        },
        {
          "output_type": "error",
          "ename": "TypeError",
          "evalue": "ignored",
          "traceback": [
            "\u001b[0;31m---------------------------------------------------------------------------\u001b[0m",
            "\u001b[0;31mTypeError\u001b[0m                                 Traceback (most recent call last)",
            "\u001b[0;32m<ipython-input-5-ea21548c0e90>\u001b[0m in \u001b[0;36m<cell line: 12>\u001b[0;34m()\u001b[0m\n\u001b[1;32m     10\u001b[0m \u001b[0mprint\u001b[0m\u001b[0;34m(\u001b[0m\u001b[0mlist_4\u001b[0m\u001b[0;34m)\u001b[0m\u001b[0;34m\u001b[0m\u001b[0;34m\u001b[0m\u001b[0m\n\u001b[1;32m     11\u001b[0m \u001b[0;34m\u001b[0m\u001b[0m\n\u001b[0;32m---> 12\u001b[0;31m \u001b[0mtuple_1\u001b[0m\u001b[0;34m[\u001b[0m\u001b[0;36m2\u001b[0m\u001b[0;34m]\u001b[0m \u001b[0;34m=\u001b[0m \u001b[0;36m25\u001b[0m     \u001b[0;31m# will throw an error as tuple can not be updated\u001b[0m\u001b[0;34m\u001b[0m\u001b[0;34m\u001b[0m\u001b[0m\n\u001b[0m",
            "\u001b[0;31mTypeError\u001b[0m: 'tuple' object does not support item assignment"
          ]
        }
      ]
    },
    {
      "cell_type": "markdown",
      "source": [
        "Python dictionary"
      ],
      "metadata": {
        "id": "koWRyNz2v-MU"
      }
    },
    {
      "cell_type": "code",
      "source": [
        "mydict = {\"name\": \"John\",\n",
        "\"year\": 1984,\n",
        "\"skillset\" : [\"C\",\"JAVA\",\"Python\"]\n",
        "}\n",
        "\n",
        "print(mydict[\"name\"], mydict[\"skillset\"])      #print dictionary items\n",
        "\n",
        "mydict.update({\"year\":1990})                   # update one item\n",
        "mydict.update({\"company\":\"ABC International\"}) # add one item\n",
        "mydict.pop(\"skillset\")                         # remove the item skillset\n",
        "\n",
        "print(mydict)                                  # print the updated dictionary\n"
      ],
      "metadata": {
        "colab": {
          "base_uri": "https://localhost:8080/"
        },
        "id": "M9kXQJhDmB50",
        "outputId": "33c2ff00-d06a-4d36-b7b6-de0c858ab3a2"
      },
      "execution_count": 6,
      "outputs": [
        {
          "output_type": "stream",
          "name": "stdout",
          "text": [
            "John ['C', 'JAVA', 'Python']\n",
            "{'name': 'John', 'year': 1990, 'company': 'ABC International'}\n"
          ]
        }
      ]
    },
    {
      "cell_type": "markdown",
      "source": [
        "Conditional operators in python"
      ],
      "metadata": {
        "id": "YqwDwHTb0zy8"
      }
    },
    {
      "cell_type": "code",
      "source": [
        "x = 30\n",
        "y = 40\n",
        "\n",
        "if x>y:\n",
        "  print(\"x is bigger than y\")\n",
        "elif x==y:\n",
        "  print(\"x and y are equal\")\n",
        "else:\n",
        "  print(\"y is greater than x\")\n"
      ],
      "metadata": {
        "colab": {
          "base_uri": "https://localhost:8080/"
        },
        "id": "eKjghhIqRsJF",
        "outputId": "b3c073a4-d0fd-4c41-cb91-12a0594ec9a8"
      },
      "execution_count": 7,
      "outputs": [
        {
          "output_type": "stream",
          "name": "stdout",
          "text": [
            "y is greater than x\n"
          ]
        }
      ]
    },
    {
      "cell_type": "markdown",
      "source": [
        "Logical operators"
      ],
      "metadata": {
        "id": "QHmT2y0h06sU"
      }
    },
    {
      "cell_type": "code",
      "source": [
        "x = 30\n",
        "y = 50\n",
        "z = 40\n",
        "\n",
        "if  x>y and x>z:\n",
        "  print(\"x is the maximum\")\n",
        "elif y>x and y>z:\n",
        "  print(\"y is the maximum\")\n",
        "else:\n",
        "  print(\"z is the maximum\")"
      ],
      "metadata": {
        "colab": {
          "base_uri": "https://localhost:8080/"
        },
        "id": "Sh9ao0R8UKzC",
        "outputId": "53b0d49a-e27d-4061-ca9f-40e25dd34880"
      },
      "execution_count": 8,
      "outputs": [
        {
          "output_type": "stream",
          "name": "stdout",
          "text": [
            "y is the maximum\n"
          ]
        }
      ]
    },
    {
      "cell_type": "markdown",
      "source": [
        "Loops in python\n",
        "\n",
        "while loop"
      ],
      "metadata": {
        "id": "CujN6FAf1Cg1"
      }
    },
    {
      "cell_type": "code",
      "source": [
        "i = 1\n",
        "while i<=10:\n",
        "  if i%2 == 0:\n",
        "    print(i)\n",
        "  i = i+1"
      ],
      "metadata": {
        "colab": {
          "base_uri": "https://localhost:8080/"
        },
        "id": "nDohsLdoXHcV",
        "outputId": "eae056a1-69a4-4db4-dd28-f60f2c0b63cc"
      },
      "execution_count": 9,
      "outputs": [
        {
          "output_type": "stream",
          "name": "stdout",
          "text": [
            "2\n",
            "4\n",
            "6\n",
            "8\n",
            "10\n"
          ]
        }
      ]
    },
    {
      "cell_type": "markdown",
      "source": [
        "for loop"
      ],
      "metadata": {
        "id": "pBwGJJKV4xUR"
      }
    },
    {
      "cell_type": "code",
      "source": [
        "list_a = [4, 7, 9, 11, 15] # input list\n",
        "list_b = []                # define an empty list where the multiplied values will be stored\n",
        "for i in list_a:          # reads every element in the list on by one\n",
        "  j = i * 5\n",
        "  list_b.append(j)\n",
        "\n",
        "print(list_b)       # print the new list after exiting the for loop\n"
      ],
      "metadata": {
        "colab": {
          "base_uri": "https://localhost:8080/"
        },
        "id": "bMxSZlNaaPr-",
        "outputId": "b1a6a412-5338-4456-89de-cec17b2de542"
      },
      "execution_count": 10,
      "outputs": [
        {
          "output_type": "stream",
          "name": "stdout",
          "text": [
            "[20, 35, 45, 55, 75]\n"
          ]
        }
      ]
    },
    {
      "cell_type": "markdown",
      "source": [
        "functions in Python"
      ],
      "metadata": {
        "id": "MRfscqH1402s"
      }
    },
    {
      "cell_type": "code",
      "source": [
        "# function definition\n",
        "def my_func(num_1, num_2):\n",
        "  sum = num_1 + num_2\n",
        "  diff = num_1 - num_2\n",
        "  mult = num_1 * num_2\n",
        "  return sum, diff, mult\n",
        "\n",
        "# function call\n",
        "a, b, c = my_func(25, 15)\n",
        "print(\"The sum = \", a)\n",
        "print(\"The difference = \", b)\n",
        "print(\"The mutiplication = \", c)"
      ],
      "metadata": {
        "colab": {
          "base_uri": "https://localhost:8080/"
        },
        "id": "FDg_BesidWXv",
        "outputId": "6a1e8a78-804c-4884-8640-d2e4c0443339"
      },
      "execution_count": 11,
      "outputs": [
        {
          "output_type": "stream",
          "name": "stdout",
          "text": [
            "The sum =  40\n",
            "The difference =  10\n",
            "The mutiplication =  375\n"
          ]
        }
      ]
    },
    {
      "cell_type": "markdown",
      "source": [
        "The NumPy library"
      ],
      "metadata": {
        "id": "jsT1Svo348Oa"
      }
    },
    {
      "cell_type": "code",
      "source": [
        "import numpy as np\n",
        "\n",
        "arr_1 = np.array([1,2,3,4]) # define an array\n",
        "print(arr_1)\n",
        "print(\"type of arr_1 : \", type(arr_1))\n",
        "\n",
        "my_list = [10, 20, 30 ,40]  # define a list\n",
        "arr_2 = np.array(my_list)  # convert the list to an array\n",
        "print(arr_2)\n",
        "\n",
        "my_tuple = (50, 100, 200)  # define a tuple\n",
        "arr_2 = np.array(my_tuple) #convert the tuple to an array\n",
        "print(arr_2)"
      ],
      "metadata": {
        "colab": {
          "base_uri": "https://localhost:8080/"
        },
        "id": "Q1m-OpJUyLYU",
        "outputId": "9d6da34c-c2ae-4917-9b39-b3303dc23d82"
      },
      "execution_count": 12,
      "outputs": [
        {
          "output_type": "stream",
          "name": "stdout",
          "text": [
            "[1 2 3 4]\n",
            "type of arr_1 :  <class 'numpy.ndarray'>\n",
            "[10 20 30 40]\n",
            "[ 50 100 200]\n"
          ]
        }
      ]
    },
    {
      "cell_type": "code",
      "source": [
        "arr_2d = np.array ([[1,2,3,4], [5,6,7,8]])                   # a 2-D array\n",
        "arr_3d = np.array([[[1,2,3],[4,5,6]],[[7,8,9],[10,11,12]]])  # a 3-D array\n",
        "print(arr_2d.ndim)\n",
        "print(arr_3d.ndim)\n",
        "print(arr_2d[1, 2])\n",
        "print(arr_3d[1,0,2])\n",
        "print(arr_2d[:,2])\n",
        "print(arr_3d)\n",
        "print(arr_3d[1,1,:])"
      ],
      "metadata": {
        "colab": {
          "base_uri": "https://localhost:8080/"
        },
        "id": "0i300oV80zau",
        "outputId": "dc77e9ea-2d99-47f6-d844-ba01063093b4"
      },
      "execution_count": 13,
      "outputs": [
        {
          "output_type": "stream",
          "name": "stdout",
          "text": [
            "2\n",
            "3\n",
            "7\n",
            "9\n",
            "[3 7]\n",
            "[[[ 1  2  3]\n",
            "  [ 4  5  6]]\n",
            "\n",
            " [[ 7  8  9]\n",
            "  [10 11 12]]]\n",
            "[10 11 12]\n"
          ]
        }
      ]
    },
    {
      "cell_type": "code",
      "source": [
        "arr1 = np.arange(0,10)     #creates an array between 0 and 10\n",
        "arr2 = np.arange(10,30,3)  #creates an array between 10 and 30 with step-size 4\n",
        "\n",
        "print(\"arr1 = \",arr1)\n",
        "print(\"arr2 = \",arr2)\n",
        "\n",
        "#using lipspace\n",
        "print(np.linspace(0,20,10))  #creates an array between 0 and 20 in 10 steps\n"
      ],
      "metadata": {
        "colab": {
          "base_uri": "https://localhost:8080/"
        },
        "id": "FEvM5FsZEJi3",
        "outputId": "7c4134b1-da0e-4097-8334-e12cb36cc0a1"
      },
      "execution_count": 14,
      "outputs": [
        {
          "output_type": "stream",
          "name": "stdout",
          "text": [
            "arr1 =  [0 1 2 3 4 5 6 7 8 9]\n",
            "arr2 =  [10 13 16 19 22 25 28]\n",
            "[ 0.          2.22222222  4.44444444  6.66666667  8.88888889 11.11111111\n",
            " 13.33333333 15.55555556 17.77777778 20.        ]\n"
          ]
        }
      ]
    },
    {
      "cell_type": "markdown",
      "source": [
        "Arrays of zeros and ones"
      ],
      "metadata": {
        "id": "zIe_wztZ5Fjq"
      }
    },
    {
      "cell_type": "code",
      "source": [
        "arr_zeros_1d = np.zeros(5)\n",
        "arr_zero = np.zeros ((3,3))\n",
        "arr_one = np.ones ((4,3))\n",
        "print(\"arr_zeros_1d\", arr_zeros_1d) # creates 1-D array of zeros\n",
        "print(\"arr_zero = \", arr_zero)      # creates 3X3 array of zeros    \n",
        "print(\"arr_one = \", arr_one)       # creates 4X3 array of ones"
      ],
      "metadata": {
        "colab": {
          "base_uri": "https://localhost:8080/"
        },
        "id": "niRVu0QIJnHc",
        "outputId": "6963e996-7251-4e43-e21b-8b00a6803ab8"
      },
      "execution_count": 16,
      "outputs": [
        {
          "output_type": "stream",
          "name": "stdout",
          "text": [
            "arr_zeros_1d [0. 0. 0. 0. 0.]\n",
            "arr_zero =  [[0. 0. 0.]\n",
            " [0. 0. 0.]\n",
            " [0. 0. 0.]]\n",
            "arr_one =  [[1. 1. 1.]\n",
            " [1. 1. 1.]\n",
            " [1. 1. 1.]\n",
            " [1. 1. 1.]]\n"
          ]
        }
      ]
    },
    {
      "cell_type": "code",
      "source": [
        "array = np.arange(0,12) # create a 1-D array\n",
        "print(\"original array\")\n",
        "print(array)            #print the original array\n",
        "print(\"2-D converted\")\n",
        "print(array.reshape((4,3))) # rearrange in to a 2-D array of 4 rows and 3 columns\n",
        "print(\"3-D converted\")\n",
        "print(array.reshape((2,3,2))) #rearrange into a 3-D array"
      ],
      "metadata": {
        "colab": {
          "base_uri": "https://localhost:8080/"
        },
        "id": "_-99PwfoVag2",
        "outputId": "8802a64c-8e11-4b57-bff7-d96efcdd8258"
      },
      "execution_count": 17,
      "outputs": [
        {
          "output_type": "stream",
          "name": "stdout",
          "text": [
            "original array\n",
            "[ 0  1  2  3  4  5  6  7  8  9 10 11]\n",
            "2-D converted\n",
            "[[ 0  1  2]\n",
            " [ 3  4  5]\n",
            " [ 6  7  8]\n",
            " [ 9 10 11]]\n",
            "3-D converted\n",
            "[[[ 0  1]\n",
            "  [ 2  3]\n",
            "  [ 4  5]]\n",
            "\n",
            " [[ 6  7]\n",
            "  [ 8  9]\n",
            "  [10 11]]]\n"
          ]
        }
      ]
    },
    {
      "cell_type": "markdown",
      "source": [
        "NumPy mathematical operations"
      ],
      "metadata": {
        "id": "lFcUUE6p5YS3"
      }
    },
    {
      "cell_type": "code",
      "source": [
        "arr_1 = np.array([[1, 2 ,3], [4, 5, 6], [11, 12, 13]])\n",
        "arr_2 = np.array([[7,8,9],[10,11,12], [14, 15, 16]])\n",
        "\n",
        "print(\"sum of the arr_1 and arr_2\")\n",
        "print(np.add(arr_1, arr_2))\n",
        "print(\"subtraction betwen arr_2 and arr_1\")\n",
        "print(np.subtract(arr_2, arr_1))\n",
        "print(\"element wise multiplication\")\n",
        "print(np.multiply(arr_1, arr_2))\n",
        "print(\"matrix multiplication of arr_1 and arr_2\")\n",
        "print(np.matmul(arr_1, arr_2))\n",
        "print(\"average of elements in arr_1=\", np.mean(arr_1))\n",
        "print(\"average of elements in arr_1 column-wise=\", np.mean(arr_1, axis=0))\n",
        "print(\"average of elements in arr_1 row_wise=\", np.mean(arr_1, axis=1))"
      ],
      "metadata": {
        "colab": {
          "base_uri": "https://localhost:8080/"
        },
        "id": "JFnH82cYn8Z5",
        "outputId": "285565d8-6a57-4b3a-a82b-95c9779f9135"
      },
      "execution_count": 18,
      "outputs": [
        {
          "output_type": "stream",
          "name": "stdout",
          "text": [
            "sum of the arr_1 and arr_2\n",
            "[[ 8 10 12]\n",
            " [14 16 18]\n",
            " [25 27 29]]\n",
            "subtraction betwen arr_2 and arr_1\n",
            "[[6 6 6]\n",
            " [6 6 6]\n",
            " [3 3 3]]\n",
            "element wise multiplication\n",
            "[[  7  16  27]\n",
            " [ 40  55  72]\n",
            " [154 180 208]]\n",
            "matrix multiplication of arr_1 and arr_2\n",
            "[[ 69  75  81]\n",
            " [162 177 192]\n",
            " [379 415 451]]\n",
            "average of elements in arr_1= 6.333333333333333\n",
            "average of elements in arr_1 column-wise= [5.33333333 6.33333333 7.33333333]\n",
            "average of elements in arr_1 row_wise= [ 2.  5. 12.]\n"
          ]
        }
      ]
    },
    {
      "cell_type": "markdown",
      "source": [
        "Random number generation in NumPy"
      ],
      "metadata": {
        "id": "CqlFYkTk5gQt"
      }
    },
    {
      "cell_type": "code",
      "source": [
        "from numpy import random\n",
        "random.seed(5) \n",
        "print(\"A random number between 0 and 10 = \", random.randint(10))\n",
        "print(\"A 3X3 rmatrix of random numbers between 10 and 20 = \")\n",
        "print(random.randint(10,20, (3,3)))\n",
        "print(\"A 3X3 rmatrix of random numbers betwen 0 and 1 = \")\n",
        "print(random.rand(3,3))\n",
        "print(\"A 3X3 rmatrix of random numbers from a unit normal distribution = \")\n",
        "randn_matrix = random.randn(3,3)\n",
        "# create a large matrix with random.randn(). Its mean and variance will be close to 0 and 1\n",
        "randn_matrix = random.randn(500,100) \n",
        "print(\"mean and variance of the matrix are : \", (np.mean(randn_matrix), np.var(randn_matrix)))"
      ],
      "metadata": {
        "colab": {
          "base_uri": "https://localhost:8080/"
        },
        "id": "a0nfdQk_9Qxw",
        "outputId": "e2c71a45-c106-4097-cb34-80dfc51e56db"
      },
      "execution_count": 19,
      "outputs": [
        {
          "output_type": "stream",
          "name": "stdout",
          "text": [
            "A random number between 0 and 10 =  3\n",
            "A 3X3 rmatrix of random numbers between 10 and 20 = \n",
            "[[16 16 10]\n",
            " [19 18 14]\n",
            " [17 10 10]]\n",
            "A 3X3 rmatrix of random numbers betwen 0 and 1 = \n",
            "[[0.2968005  0.18772123 0.08074127]\n",
            " [0.7384403  0.44130922 0.15830987]\n",
            " [0.87993703 0.27408646 0.41423502]]\n",
            "A 3X3 rmatrix of random numbers from a unit normal distribution = \n",
            "mean and variance of the matrix are :  (0.0013921817469718315, 0.9992936178062981)\n"
          ]
        }
      ]
    },
    {
      "cell_type": "markdown",
      "source": [
        "Matplotlib library"
      ],
      "metadata": {
        "id": "BYZ3nHd95rbx"
      }
    },
    {
      "cell_type": "code",
      "source": [
        "import numpy as np\n",
        "import matplotlib.pyplot as plt\n",
        "\n",
        "x = np.linspace(0,50,100)\n",
        "y = np.sin(x)*np.pi/180\n",
        "plt.plot(x, y)\n",
        "plt.xlabel(\"time axis\")\n",
        "plt.ylabel(\"amplitude\")\n",
        "plt.title(\"a sinusoidal wave\");"
      ],
      "metadata": {
        "colab": {
          "base_uri": "https://localhost:8080/",
          "height": 472
        },
        "id": "TjjgANaIBNZK",
        "outputId": "38385246-007e-4ab6-cf8b-bdaec12d6bc9"
      },
      "execution_count": 20,
      "outputs": [
        {
          "output_type": "display_data",
          "data": {
            "text/plain": [
              "<Figure size 640x480 with 1 Axes>"
            ],
            "image/png": "[encoded data removed]"
          },
          "metadata": {}
        }
      ]
    },
    {
      "cell_type": "code",
      "source": [
        "from numpy import random\n",
        "x = np.linspace(0,50,100)\n",
        "y = (np.sin(x)*np.pi/180)*2\n",
        "y_noisy = y+ np.random.normal(0,0.05,size=100)\n",
        "plt.subplot(2,1,1)\n",
        "plt.plot(x,y);\n",
        "plt.subplot(2,1,2)\n",
        "plt.plot(x,y_noisy);"
      ],
      "metadata": {
        "colab": {
          "base_uri": "https://localhost:8080/",
          "height": 430
        },
        "id": "T5awbQ3BFGyv",
        "outputId": "b02dda71-c8fb-4c75-b700-79e3a852c148"
      },
      "execution_count": 21,
      "outputs": [
        {
          "output_type": "display_data",
          "data": {
            "text/plain": [
              "<Figure size 640x480 with 2 Axes>"
            ],
            "image/png": "[encoded data removed]"
          },
          "metadata": {}
        }
      ]
    },
    {
      "cell_type": "markdown",
      "source": [
        "Pandas library"
      ],
      "metadata": {
        "id": "09ql4Tro50es"
      }
    },
    {
      "cell_type": "code",
      "source": [
        "import pandas as pd\n",
        "df = pd.read_csv(\"https://storage.googleapis.com/mledu-datasets/california_housing_train.csv\", sep=\",\")\n",
        "print(type(df))\n",
        "print(df.columns)"
      ],
      "metadata": {
        "colab": {
          "base_uri": "https://localhost:8080/"
        },
        "id": "yKAyjAmCQmlT",
        "outputId": "ebf6d3f2-acc2-4d9c-efde-c847f0c342e8"
      },
      "execution_count": 22,
      "outputs": [
        {
          "output_type": "stream",
          "name": "stdout",
          "text": [
            "<class 'pandas.core.frame.DataFrame'>\n",
            "Index(['longitude', 'latitude', 'housing_median_age', 'total_rooms',\n",
            "       'total_bedrooms', 'population', 'households', 'median_income',\n",
            "       'median_house_value'],\n",
            "      dtype='object')\n"
          ]
        }
      ]
    },
    {
      "cell_type": "code",
      "source": [
        "print(\"maxium population = \", df['population'].max())\n",
        "print(\"median population = \", df['population'].median())\n",
        "filter =  df['population'] > 20000\n",
        "df[filter]"
      ],
      "metadata": {
        "colab": {
          "base_uri": "https://localhost:8080/",
          "height": 209
        },
        "id": "JTlJp0LBWc3t",
        "outputId": "2badc204-0d49-460d-ae2d-bfc81a112521"
      },
      "execution_count": 25,
      "outputs": [
        {
          "output_type": "stream",
          "name": "stdout",
          "text": [
            "maxium population =  35682.0\n",
            "median population =  1167.0\n"
          ]
        },
        {
          "output_type": "execute_result",
          "data": {
            "text/plain": [
              "       longitude  latitude  housing_median_age  total_rooms  total_bedrooms  \\\n",
              "2274     -117.42     33.35                14.0      25135.0          4819.0   \n",
              "12772    -121.79     36.64                11.0      32627.0          6445.0   \n",
              "\n",
              "       population  households  median_income  median_house_value  \n",
              "2274      35682.0      4769.0         2.5729            134400.0  \n",
              "12772     28566.0      6082.0         2.3087            118800.0  "
            ],
            "text/html": [
              "\n",
              "  <div id=\"df-5677e1b6-4c1f-41dc-b1de-d9848c3e2bba\">\n",
              "    <div class=\"colab-df-container\">\n",
              "      <div>\n",
              "<style scoped>\n",
              "    .dataframe tbody tr th:only-of-type {\n",
              "        vertical-align: middle;\n",
              "    }\n",
              "\n",
              "    .dataframe tbody tr th {\n",
              "        vertical-align: top;\n",
              "    }\n",
              "\n",
              "    .dataframe thead th {\n",
              "        text-align: right;\n",
              "    }\n",
              "</style>\n",
              "<table border=\"1\" class=\"dataframe\">\n",
              "  <thead>\n",
              "    <tr style=\"text-align: right;\">\n",
              "      <th></th>\n",
              "      <th>longitude</th>\n",
              "      <th>latitude</th>\n",
              "      <th>housing_median_age</th>\n",
              "      <th>total_rooms</th>\n",
              "      <th>total_bedrooms</th>\n",
              "      <th>population</th>\n",
              "      <th>households</th>\n",
              "      <th>median_income</th>\n",
              "      <th>median_house_value</th>\n",
              "    </tr>\n",
              "  </thead>\n",
              "  <tbody>\n",
              "    <tr>\n",
              "      <th>2274</th>\n",
              "      <td>-117.42</td>\n",
              "      <td>33.35</td>\n",
              "      <td>14.0</td>\n",
              "      <td>25135.0</td>\n",
              "      <td>4819.0</td>\n",
              "      <td>35682.0</td>\n",
              "      <td>4769.0</td>\n",
              "      <td>2.5729</td>\n",
              "      <td>134400.0</td>\n",
              "    </tr>\n",
              "    <tr>\n",
              "      <th>12772</th>\n",
              "      <td>-121.79</td>\n",
              "      <td>36.64</td>\n",
              "      <td>11.0</td>\n",
              "      <td>32627.0</td>\n",
              "      <td>6445.0</td>\n",
              "      <td>28566.0</td>\n",
              "      <td>6082.0</td>\n",
              "      <td>2.3087</td>\n",
              "      <td>118800.0</td>\n",
              "    </tr>\n",
              "  </tbody>\n",
              "</table>\n",
              "</div>\n",
              "      <button class=\"colab-df-convert\" onclick=\"convertToInteractive('df-5677e1b6-4c1f-41dc-b1de-d9848c3e2bba')\"\n",
              "              title=\"Convert this dataframe to an interactive table.\"\n",
              "              style=\"display:none;\">\n",
              "        \n",
              "  <svg xmlns=\"http://www.w3.org/2000/svg\" height=\"24px\"viewBox=\"0 0 24 24\"\n",
              "       width=\"24px\">\n",
              "    <path d=\"M0 0h24v24H0V0z\" fill=\"none\"/>\n",
              "    <path d=\"M18.56 5.44l.94 2.06.94-2.06 2.06-.94-2.06-.94-.94-2.06-.94 2.06-2.06.94zm-11 1L8.5 8.5l.94-2.06 2.06-.94-2.06-.94L8.5 2.5l-.94 2.06-2.06.94zm10 10l.94 2.06.94-2.06 2.06-.94-2.06-.94-.94-2.06-.94 2.06-2.06.94z\"/><path d=\"M17.41 7.96l-1.37-1.37c-.4-.4-.92-.59-1.43-.59-.52 0-1.04.2-1.43.59L10.3 9.45l-7.72 7.72c-.78.78-.78 2.05 0 2.83L4 21.41c.39.39.9.59 1.41.59.51 0 1.02-.2 1.41-.59l7.78-7.78 2.81-2.81c.8-.78.8-2.07 0-2.86zM5.41 20L4 18.59l7.72-7.72 1.47 1.35L5.41 20z\"/>\n",
              "  </svg>\n",
              "      </button>\n",
              "      \n",
              "  <style>\n",
              "    .colab-df-container {\n",
              "      display:flex;\n",
              "      flex-wrap:wrap;\n",
              "      gap: 12px;\n",
              "    }\n",
              "\n",
              "    .colab-df-convert {\n",
              "      background-color: #E8F0FE;\n",
              "      border: none;\n",
              "      border-radius: 50%;\n",
              "      cursor: pointer;\n",
              "      display: none;\n",
              "      fill: #1967D2;\n",
              "      height: 32px;\n",
              "      padding: 0 0 0 0;\n",
              "      width: 32px;\n",
              "    }\n",
              "\n",
              "    .colab-df-convert:hover {\n",
              "      background-color: #E2EBFA;\n",
              "      box-shadow: 0px 1px 2px rgba(60, 64, 67, 0.3), 0px 1px 3px 1px rgba(60, 64, 67, 0.15);\n",
              "      fill: #174EA6;\n",
              "    }\n",
              "\n",
              "    [theme=dark] .colab-df-convert {\n",
              "      background-color: #3B4455;\n",
              "      fill: #D2E3FC;\n",
              "    }\n",
              "\n",
              "    [theme=dark] .colab-df-convert:hover {\n",
              "      background-color: #434B5C;\n",
              "      box-shadow: 0px 1px 3px 1px rgba(0, 0, 0, 0.15);\n",
              "      filter: drop-shadow(0px 1px 2px rgba(0, 0, 0, 0.3));\n",
              "      fill: #FFFFFF;\n",
              "    }\n",
              "  </style>\n",
              "\n",
              "      <script>\n",
              "        const buttonEl =\n",
              "          document.querySelector('#df-5677e1b6-4c1f-41dc-b1de-d9848c3e2bba button.colab-df-convert');\n",
              "        buttonEl.style.display =\n",
              "          google.colab.kernel.accessAllowed ? 'block' : 'none';\n",
              "\n",
              "        async function convertToInteractive(key) {\n",
              "          const element = document.querySelector('#df-5677e1b6-4c1f-41dc-b1de-d9848c3e2bba');\n",
              "          const dataTable =\n",
              "            await google.colab.kernel.invokeFunction('convertToInteractive',\n",
              "                                                     [key], {});\n",
              "          if (!dataTable) return;\n",
              "\n",
              "          const docLinkHtml = 'Like what you see? Visit the ' +\n",
              "            '<a target=\"_blank\" href=https://colab.research.google.com/notebooks/data_table.ipynb>data table notebook</a>'\n",
              "            + ' to learn more about interactive tables.';\n",
              "          element.innerHTML = '';\n",
              "          dataTable['output_type'] = 'display_data';\n",
              "          await google.colab.output.renderOutput(dataTable, element);\n",
              "          const docLink = document.createElement('div');\n",
              "          docLink.innerHTML = docLinkHtml;\n",
              "          element.appendChild(docLink);\n",
              "        }\n",
              "      </script>\n",
              "    </div>\n",
              "  </div>\n",
              "  "
            ]
          },
          "metadata": {},
          "execution_count": 25
        }
      ]
    }
  ]
}