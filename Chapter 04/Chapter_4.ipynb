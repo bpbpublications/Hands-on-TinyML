{
  "cells": [
    {
      "cell_type": "markdown",
      "source": [
        "Define a basic ANN structure in TensorFlow using Keras APIs"
      ],
      "metadata": {
        "id": "rlnQyhGmRQn0"
      }
    },
    {
      "cell_type": "code",
      "execution_count": 1,
      "metadata": {
        "id": "WrcIj8k74LvN"
      },
      "outputs": [],
      "source": [
        "from tensorflow.keras.models import Sequential\n",
        "model = Sequential()"
      ]
    },
    {
      "cell_type": "code",
      "execution_count": 2,
      "metadata": {
        "id": "sJhJ9pOR44NS"
      },
      "outputs": [],
      "source": [
        "from tensorflow.keras.layers import Dense\n",
        "\n",
        "model.add(Dense(512, activation = 'relu', input_shape = (784,)))   \n",
        "model.add(Dense(256, activation = 'relu'))\n",
        "model.add(Dense(3, activation = 'softmax'))"
      ]
    },
    {
      "cell_type": "code",
      "execution_count": 3,
      "metadata": {
        "colab": {
          "base_uri": "https://localhost:8080/"
        },
        "id": "-pUE7oDT5b7t",
        "outputId": "06dae06f-b491-4c65-f917-727aa3d81eb3"
      },
      "outputs": [
        {
          "output_type": "stream",
          "name": "stdout",
          "text": [
            "Model: \"sequential\"\n",
            "_________________________________________________________________\n",
            " Layer (type)                Output Shape              Param #   \n",
            "=================================================================\n",
            " dense (Dense)               (None, 512)               401920    \n",
            "                                                                 \n",
            " dense_1 (Dense)             (None, 256)               131328    \n",
            "                                                                 \n",
            " dense_2 (Dense)             (None, 3)                 771       \n",
            "                                                                 \n",
            "=================================================================\n",
            "Total params: 534,019\n",
            "Trainable params: 534,019\n",
            "Non-trainable params: 0\n",
            "_________________________________________________________________\n"
          ]
        }
      ],
      "source": [
        "model.summary()"
      ]
    },
    {
      "cell_type": "markdown",
      "source": [
        "Classification of hand written digits using Neural Network\n",
        "\n",
        "\n",
        "Load MNIST database"
      ],
      "metadata": {
        "id": "lkU1gwomRZyE"
      }
    },
    {
      "cell_type": "code",
      "execution_count": 4,
      "metadata": {
        "colab": {
          "base_uri": "https://localhost:8080/"
        },
        "id": "A3kC2S1TSSxT",
        "outputId": "1332687b-6d4c-4c4a-cae0-ae7007fa9f08"
      },
      "outputs": [
        {
          "output_type": "stream",
          "name": "stdout",
          "text": [
            "Downloading data from https://storage.googleapis.com/tensorflow/tf-keras-datasets/mnist.npz\n",
            "11490434/11490434 [==============================] - 0s 0us/step\n"
          ]
        }
      ],
      "source": [
        "import numpy as np\n",
        "import matplotlib.pyplot as plt\n",
        "from tensorflow.keras.datasets import mnist\n",
        "\n",
        "#load the dataset\n",
        "(X_train, y_train), (X_test, y_test) = mnist.load_data()"
      ]
    },
    {
      "cell_type": "markdown",
      "source": [
        "Check the shape of input and output variables"
      ],
      "metadata": {
        "id": "XFxHs9-MRoXT"
      }
    },
    {
      "cell_type": "code",
      "execution_count": 5,
      "metadata": {
        "colab": {
          "base_uri": "https://localhost:8080/"
        },
        "id": "Vg883l9cTNZi",
        "outputId": "379a8f50-d56f-458c-dcff-38621f455c9e"
      },
      "outputs": [
        {
          "output_type": "stream",
          "name": "stdout",
          "text": [
            "shape of training data  (60000, 28, 28)\n",
            "shape of training labels  (60000,)\n",
            "shape of training data  (10000, 28, 28)\n",
            "shape of training labels  (10000,)\n",
            "type of X_train  <class 'numpy.ndarray'>\n",
            "type of y_train <class 'numpy.ndarray'>\n"
          ]
        }
      ],
      "source": [
        "print(\"shape of training data \",X_train.shape)\n",
        "print(\"shape of training labels \",y_train.shape)\n",
        "print(\"shape of training data \",X_test.shape)\n",
        "print(\"shape of training labels \",y_test.shape)\n",
        "print(\"type of X_train \",type(X_train))\n",
        "print(\"type of y_train\",type(y_train))"
      ]
    },
    {
      "cell_type": "markdown",
      "source": [
        "Plot sample images"
      ],
      "metadata": {
        "id": "cHO58mx0R2sg"
      }
    },
    {
      "cell_type": "code",
      "execution_count": 6,
      "metadata": {
        "colab": {
          "base_uri": "https://localhost:8080/",
          "height": 407
        },
        "id": "zY911YwLUpNz",
        "outputId": "7cad58b6-f404-48ae-cf83-c67a2da16495"
      },
      "outputs": [
        {
          "output_type": "display_data",
          "data": {
            "text/plain": [
              "<Figure size 400x400 with 9 Axes>"
            ],
            "image/png": "[encoded data removed]"
          },
          "metadata": {}
        }
      ],
      "source": [
        "import numpy as np\n",
        "import matplotlib.pyplot as plt\n",
        "from numpy import random\n",
        "plt.rcParams['figure.figsize'] = (4,4)\n",
        "\n",
        "for i in range(9):\n",
        "    plt.subplot(3,3,i+1)\n",
        "    num = random.randint(0, len(X_train))\n",
        "    plt.imshow(X_train[num], cmap='gray')\n",
        "    plt.title(\"Class {}\".format(y_train[num]))\n",
        "    \n",
        "plt.tight_layout()"
      ]
    },
    {
      "cell_type": "markdown",
      "source": [
        "Pre-processing of the data"
      ],
      "metadata": {
        "id": "hKMTHAJXbopP"
      }
    },
    {
      "cell_type": "code",
      "execution_count": 7,
      "metadata": {
        "id": "MbCT2yMYc1hN"
      },
      "outputs": [],
      "source": [
        "#reshape the input\n",
        "X_train = X_train.reshape(60000, 784) \n",
        "X_test = X_test.reshape(10000, 784) \n",
        "\n",
        "X_train = X_train.astype('float32')   # change integers to 32-bit floating point numbers\n",
        "X_test = X_test.astype('float32')\n",
        "\n",
        "X_train /= 255                        # normalize the input\n",
        "X_test /= 255"
      ]
    },
    {
      "cell_type": "markdown",
      "source": [
        "Converting the class labels into one hot vector"
      ],
      "metadata": {
        "id": "V-uLzRCJb5Po"
      }
    },
    {
      "cell_type": "code",
      "execution_count": 8,
      "metadata": {
        "colab": {
          "base_uri": "https://localhost:8080/"
        },
        "id": "dHesE45-KQft",
        "outputId": "f3c921bd-c181-4eb9-f403-8b89c371be14"
      },
      "outputs": [
        {
          "output_type": "stream",
          "name": "stdout",
          "text": [
            "label of 100th instance in training data:  5\n",
            "label of 500th instance in test data:  3\n",
            "label of 100th instance in training data one hot encoded:  [0. 0. 0. 0. 0. 1. 0. 0. 0. 0.]\n",
            "label of 500th instance in test data one hot encoded:  [0. 0. 0. 1. 0. 0. 0. 0. 0. 0.]\n"
          ]
        }
      ],
      "source": [
        "from tensorflow.keras.utils import to_categorical\n",
        "num_class = 10\n",
        "print(\"label of 100th instance in training data: \", y_train[100])\n",
        "print(\"label of 500th instance in test data: \", y_test[500])\n",
        "\n",
        "y_train = to_categorical(y_train, num_class)\n",
        "y_test = to_categorical(y_test, num_class)\n",
        "\n",
        "print(\"label of 100th instance in training data one hot encoded: \",y_train[100])\n",
        "print(\"label of 500th instance in test data one hot encoded: \",y_test[500])"
      ]
    },
    {
      "cell_type": "markdown",
      "source": [
        "Define a simple feedforward neural network"
      ],
      "metadata": {
        "id": "Jh0jXPqrcGZm"
      }
    },
    {
      "cell_type": "code",
      "execution_count": 9,
      "metadata": {
        "id": "uLo7NNKcdTr8"
      },
      "outputs": [],
      "source": [
        "from tensorflow.keras.models import Sequential\n",
        "from tensorflow.keras.layers import Dense \n",
        "\n",
        "model = Sequential()\n",
        "model.add(Dense(512, activation = 'relu', input_shape = (784,)))   \n",
        "model.add(Dense(128, activation = 'relu'))\n",
        "model.add(Dense(num_class, activation = 'softmax'))"
      ]
    },
    {
      "cell_type": "code",
      "execution_count": 10,
      "metadata": {
        "colab": {
          "base_uri": "https://localhost:8080/"
        },
        "id": "1ZWlaao2efnR",
        "outputId": "7fd2eb21-cee1-4faa-cde0-eeddbdfe3763"
      },
      "outputs": [
        {
          "output_type": "stream",
          "name": "stdout",
          "text": [
            "Model: \"sequential_1\"\n",
            "_________________________________________________________________\n",
            " Layer (type)                Output Shape              Param #   \n",
            "=================================================================\n",
            " dense_3 (Dense)             (None, 512)               401920    \n",
            "                                                                 \n",
            " dense_4 (Dense)             (None, 128)               65664     \n",
            "                                                                 \n",
            " dense_5 (Dense)             (None, 10)                1290      \n",
            "                                                                 \n",
            "=================================================================\n",
            "Total params: 468,874\n",
            "Trainable params: 468,874\n",
            "Non-trainable params: 0\n",
            "_________________________________________________________________\n"
          ]
        }
      ],
      "source": [
        "model.summary()"
      ]
    },
    {
      "cell_type": "markdown",
      "source": [
        "Train the network"
      ],
      "metadata": {
        "id": "0ki-QmGawRRs"
      }
    },
    {
      "cell_type": "code",
      "execution_count": 11,
      "metadata": {
        "id": "2iNqEDohfB82"
      },
      "outputs": [],
      "source": [
        "model.compile(loss='categorical_crossentropy', optimizer='adam', metrics=['accuracy'])"
      ]
    },
    {
      "cell_type": "code",
      "execution_count": 12,
      "metadata": {
        "colab": {
          "base_uri": "https://localhost:8080/"
        },
        "id": "5OpOKWu0fQdC",
        "outputId": "06e34ef8-eeae-44fc-b022-881ae295b418"
      },
      "outputs": [
        {
          "output_type": "stream",
          "name": "stdout",
          "text": [
            "Epoch 1/10\n",
            "469/469 [==============================] - 6s 11ms/step - loss: 0.2412 - accuracy: 0.9300\n",
            "Epoch 2/10\n",
            "469/469 [==============================] - 6s 14ms/step - loss: 0.0886 - accuracy: 0.9725\n",
            "Epoch 3/10\n",
            "469/469 [==============================] - 5s 11ms/step - loss: 0.0562 - accuracy: 0.9826\n",
            "Epoch 4/10\n",
            "469/469 [==============================] - 6s 13ms/step - loss: 0.0383 - accuracy: 0.9881\n",
            "Epoch 5/10\n",
            "469/469 [==============================] - 6s 12ms/step - loss: 0.0281 - accuracy: 0.9910\n",
            "Epoch 6/10\n",
            "469/469 [==============================] - 6s 12ms/step - loss: 0.0230 - accuracy: 0.9928\n",
            "Epoch 7/10\n",
            "469/469 [==============================] - 6s 13ms/step - loss: 0.0174 - accuracy: 0.9945\n",
            "Epoch 8/10\n",
            "469/469 [==============================] - 5s 11ms/step - loss: 0.0166 - accuracy: 0.9945\n",
            "Epoch 9/10\n",
            "469/469 [==============================] - 6s 13ms/step - loss: 0.0138 - accuracy: 0.9958\n",
            "Epoch 10/10\n",
            "469/469 [==============================] - 5s 11ms/step - loss: 0.0131 - accuracy: 0.9958\n"
          ]
        },
        {
          "output_type": "execute_result",
          "data": {
            "text/plain": [
              "<keras.callbacks.History at 0x7ffaf23bae80>"
            ]
          },
          "metadata": {},
          "execution_count": 12
        }
      ],
      "source": [
        "model.fit(X_train, y_train,\n",
        "          batch_size=128, epochs=10,\n",
        "          verbose=1)"
      ]
    },
    {
      "cell_type": "markdown",
      "source": [
        "Evaluate on test set"
      ],
      "metadata": {
        "id": "cwHiscYdwUiT"
      }
    },
    {
      "cell_type": "code",
      "execution_count": 13,
      "metadata": {
        "colab": {
          "base_uri": "https://localhost:8080/"
        },
        "id": "AAvOZ7l7jvW0",
        "outputId": "2d6a974d-88af-4509-b3b0-000e034e51be"
      },
      "outputs": [
        {
          "output_type": "stream",
          "name": "stdout",
          "text": [
            "313/313 [==============================] - 1s 3ms/step - loss: 0.0747 - accuracy: 0.9819\n",
            "loss on test data:  0.07467583566904068\n",
            "accuracy on test data: 0.9818999767303467\n"
          ]
        }
      ],
      "source": [
        "score = model.evaluate(X_test, y_test)\n",
        "print('loss on test data: ', score[0])\n",
        "print('accuracy on test data:', score[1])"
      ]
    },
    {
      "cell_type": "markdown",
      "source": [
        "Implement a CNN on MNIST\n",
        "\n",
        "\n",
        "load th dataset"
      ],
      "metadata": {
        "id": "0pzNDQ4anQeK"
      }
    },
    {
      "cell_type": "code",
      "execution_count": 14,
      "metadata": {
        "id": "Dj3GCODc6VHh"
      },
      "outputs": [],
      "source": [
        "#load the dataset\n",
        "(X_train, y_train), (X_test, y_test) = mnist.load_data()\n",
        "X_train = X_train.astype('float32')   # change integers to 32-bit floating point numbers\n",
        "X_test = X_test.astype('float32')\n",
        "\n",
        "X_train /= 255                        # normalize the input\n",
        "X_test /= 255\n",
        "\n",
        "X_train = X_train.reshape(-1, X_train.shape[1], X_train.shape[2], 1)\n",
        "X_test = X_test.reshape(-1, X_test.shape[1], X_test.shape[2], 1)\n",
        "\n",
        "y_train = to_categorical(y_train, num_class)\n",
        "y_test = to_categorical(y_test, num_class)"
      ]
    },
    {
      "cell_type": "markdown",
      "source": [
        "Define the CNN "
      ],
      "metadata": {
        "id": "8VFKTG5tnX49"
      }
    },
    {
      "cell_type": "code",
      "execution_count": 15,
      "metadata": {
        "id": "EJq7u64c7UXY"
      },
      "outputs": [],
      "source": [
        "from tensorflow.keras.models import Sequential\n",
        "from tensorflow.keras.layers import Conv2D, MaxPooling2D, Flatten, Dropout, Dense"
      ]
    },
    {
      "cell_type": "code",
      "execution_count": 16,
      "metadata": {
        "id": "vv4aNrcl50KW"
      },
      "outputs": [],
      "source": [
        "from tensorflow.keras.models import Sequential\n",
        "from tensorflow.keras.layers import Conv2D, MaxPooling2D, Flatten, Dropout, Dense\n",
        "\n",
        "model = Sequential()      \n",
        "model.add(Conv2D(32, kernel_size=(3, 3), activation=\"relu\", input_shape = (28,28,1)))\n",
        "model.add(MaxPooling2D(pool_size=(2, 2)))\n",
        "model.add(Conv2D(64, kernel_size=(3, 3), activation=\"relu\"))\n",
        "model.add(MaxPooling2D(pool_size=(2, 2)))\n",
        "model.add(Flatten())\n",
        "model.add(Dropout(0.5))\n",
        "model.add(Dense(num_class, activation=\"softmax\"))"
      ]
    },
    {
      "cell_type": "code",
      "execution_count": 17,
      "metadata": {
        "colab": {
          "base_uri": "https://localhost:8080/"
        },
        "id": "Te0Nx5TYn6te",
        "outputId": "72a27b2f-891f-4d17-d99d-501feaae28cf"
      },
      "outputs": [
        {
          "output_type": "stream",
          "name": "stdout",
          "text": [
            "Model: \"sequential_2\"\n",
            "_________________________________________________________________\n",
            " Layer (type)                Output Shape              Param #   \n",
            "=================================================================\n",
            " conv2d (Conv2D)             (None, 26, 26, 32)        320       \n",
            "                                                                 \n",
            " max_pooling2d (MaxPooling2D  (None, 13, 13, 32)       0         \n",
            " )                                                               \n",
            "                                                                 \n",
            " conv2d_1 (Conv2D)           (None, 11, 11, 64)        18496     \n",
            "                                                                 \n",
            " max_pooling2d_1 (MaxPooling  (None, 5, 5, 64)         0         \n",
            " 2D)                                                             \n",
            "                                                                 \n",
            " flatten (Flatten)           (None, 1600)              0         \n",
            "                                                                 \n",
            " dropout (Dropout)           (None, 1600)              0         \n",
            "                                                                 \n",
            " dense_6 (Dense)             (None, 10)                16010     \n",
            "                                                                 \n",
            "=================================================================\n",
            "Total params: 34,826\n",
            "Trainable params: 34,826\n",
            "Non-trainable params: 0\n",
            "_________________________________________________________________\n"
          ]
        }
      ],
      "source": [
        "model.summary()"
      ]
    },
    {
      "cell_type": "markdown",
      "source": [
        "Train the CNN"
      ],
      "metadata": {
        "id": "PoH_H9aXwMnJ"
      }
    },
    {
      "cell_type": "code",
      "source": [
        "model.compile(loss=\"categorical_crossentropy\", optimizer=\"adam\", metrics=[\"accuracy\"])"
      ],
      "metadata": {
        "id": "DyKU-zOdt4Xi"
      },
      "execution_count": 18,
      "outputs": []
    },
    {
      "cell_type": "code",
      "execution_count": 19,
      "metadata": {
        "colab": {
          "base_uri": "https://localhost:8080/"
        },
        "id": "H6h9m48b9-fF",
        "outputId": "b26c2f46-b905-4830-91f0-bda160c50021"
      },
      "outputs": [
        {
          "output_type": "stream",
          "name": "stdout",
          "text": [
            "Epoch 1/10\n",
            "469/469 [==============================] - 49s 101ms/step - loss: 0.3313 - accuracy: 0.8993\n",
            "Epoch 2/10\n",
            "469/469 [==============================] - 48s 103ms/step - loss: 0.1040 - accuracy: 0.9678\n",
            "Epoch 3/10\n",
            "469/469 [==============================] - 49s 104ms/step - loss: 0.0781 - accuracy: 0.9762\n",
            "Epoch 4/10\n",
            "469/469 [==============================] - 56s 120ms/step - loss: 0.0653 - accuracy: 0.9800\n",
            "Epoch 5/10\n",
            "469/469 [==============================] - 48s 103ms/step - loss: 0.0576 - accuracy: 0.9825\n",
            "Epoch 6/10\n",
            "469/469 [==============================] - 47s 101ms/step - loss: 0.0512 - accuracy: 0.9838\n",
            "Epoch 7/10\n",
            "469/469 [==============================] - 48s 103ms/step - loss: 0.0480 - accuracy: 0.9850\n",
            "Epoch 8/10\n",
            "469/469 [==============================] - 49s 104ms/step - loss: 0.0457 - accuracy: 0.9858\n",
            "Epoch 9/10\n",
            "469/469 [==============================] - 48s 102ms/step - loss: 0.0413 - accuracy: 0.9874\n",
            "Epoch 10/10\n",
            "469/469 [==============================] - 47s 100ms/step - loss: 0.0395 - accuracy: 0.9871\n"
          ]
        }
      ],
      "source": [
        "history = model.fit(X_train, y_train, batch_size=128, epochs=10)"
      ]
    },
    {
      "cell_type": "markdown",
      "source": [
        "Plot the training performance"
      ],
      "metadata": {
        "id": "tkQxpZTaxsN-"
      }
    },
    {
      "cell_type": "code",
      "source": [
        "import matplotlib.pyplot as plt\n",
        "plt.subplot(2,1,1)\n",
        "plt.plot(history.history['loss'], '*-')\n",
        "plt.xlabel('epochs')\n",
        "plt.ylabel('loss')\n",
        "plt.subplot(2,1,2)\n",
        "plt.plot(history.history['accuracy'],'*-')\n",
        "plt.xlabel('epochs')\n",
        "plt.ylabel('accuracy')"
      ],
      "metadata": {
        "colab": {
          "base_uri": "https://localhost:8080/",
          "height": 405
        },
        "id": "JQvMx7OpOfnI",
        "outputId": "44492225-7ba0-4e2b-c19f-1addd3c34a0a"
      },
      "execution_count": 20,
      "outputs": [
        {
          "output_type": "execute_result",
          "data": {
            "text/plain": [
              "Text(0, 0.5, 'accuracy')"
            ]
          },
          "metadata": {},
          "execution_count": 20
        },
        {
          "output_type": "display_data",
          "data": {
            "text/plain": [
              "<Figure size 400x400 with 2 Axes>"
            ],
            "image/png": "[encoded data removed]"
          },
          "metadata": {}
        }
      ]
    },
    {
      "cell_type": "markdown",
      "source": [
        "Evaluate on test set"
      ],
      "metadata": {
        "id": "8AEbk_lBx0f8"
      }
    },
    {
      "cell_type": "code",
      "execution_count": 21,
      "metadata": {
        "colab": {
          "base_uri": "https://localhost:8080/"
        },
        "id": "cwoytX4E_1Ct",
        "outputId": "9d81a904-8a03-4b99-8387-93e5325198c4"
      },
      "outputs": [
        {
          "output_type": "stream",
          "name": "stdout",
          "text": [
            "313/313 [==============================] - 3s 8ms/step - loss: 0.0272 - accuracy: 0.9911\n",
            "loss on test data:  0.02723855897784233\n",
            "accuracy on test data: 0.991100013256073\n"
          ]
        }
      ],
      "source": [
        "score = model.evaluate(X_test, y_test)\n",
        "print('loss on test data: ', score[0])\n",
        "print('accuracy on test data:', score[1])"
      ]
    }
  ],
  "metadata": {
    "colab": {
      "provenance": []
    },
    "kernelspec": {
      "display_name": "Python 3",
      "name": "python3"
    },
    "language_info": {
      "name": "python"
    }
  },
  "nbformat": 4,
  "nbformat_minor": 0
}